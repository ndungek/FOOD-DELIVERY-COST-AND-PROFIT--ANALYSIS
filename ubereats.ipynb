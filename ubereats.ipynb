{
 "cells": [
  {
   "cell_type": "markdown",
   "metadata": {},
   "source": [
    "# **<u>ONLINE FOOD DELIVERY PROFITABILITY ANALYSIS</u>**\n",
    "\n",
    "<span style=\"color: orange; font-style: italic;\">Maureen Ndunge Kitang'a</span>"
   ]
  },
  {
   "cell_type": "markdown",
   "metadata": {},
   "source": [
    "## **PROJECT PROPOSAL**\n",
    "### *Executive Summary*\n",
    "\n",
    "Our analysis of Uber Eats data is geared towards extracting valuable insights into customer preferences within the food industry. We're looking at how much restaurants charge, their ratings, the types of food they offer, and where they're located. Our aim? Provide straightforward tips to help these places get noticed more on the platform and make more money.\n",
    "\n",
    "Analyzing this data helps us spot trends and patterns in the food scene. Our main goal is to provide practical recommendations that can reshape restaurant strategies and enhance their visibility on the Uber Eats platform.\n",
    "\n",
    "### *Problem Statement*\n",
    "Our main mission in this project is to provide practical guidance to clients planning to start a new restaurant chain or enhance the performance of their existing establishments. We're dealing with a widespread issue in the restaurant industry, where profit margins typically fall within the range of 10-20%. Our analysis is centered around exploring the current landscape of Uber Eats, aiming to uncover inventive strategies that can make restaurant businesses more attractive to both new and existing customers, ultimately driving higher profits."
   ]
  },
  {
   "cell_type": "markdown",
   "metadata": {},
   "source": [
    "# **WHY DOES THIS MATTER!?**\n",
    "The significance of this problem stems from the remarkable growth of online food ordering platforms, exemplified by Uber Eats' substantial transaction surge. In 2022, Uber Eats recorded a staggering USD 11 billion in revenue, marking a notable 31% increase from the previous year's revenue of $8.3 billion. Concurrently, there has been a steady 2% growth in user numbers, with a significant 10% increase in merchant participation in the US. These trends underscore the platform's rising popularity among both customers and merchants.\n",
    "\n",
    "Central to this challenge is understanding customer preferences across various dimensions, including preferred cuisines and menu diversity, within different regions. Thus, the pivotal question emerges: How can restaurants effectively analyze customer preferences to craft strategies that capitalize on the burgeoning potential of online food ordering platforms?"
   ]
  },
  {
   "cell_type": "markdown",
   "metadata": {},
   "source": [
    "# **DATA UNDERSTANDING**\n",
    "The primary dataset utilized in this analysis has information on various restaurants spread across the United States. Data sources were obtained through web scraping collected using Python libraries and the Uber Eats website.\n",
    "There are 2 datasets - Restaurants dataset, and the Menus dataset. For more in information on the [data](\"https://www.kaggle.com/datasets/ahmedshahriarsakib/uber-eats-usa-restaurants-menus\")"
   ]
  },
  {
   "cell_type": "code",
   "execution_count": 47,
   "metadata": {},
   "outputs": [],
   "source": [
    "#importing the necessary libraries\n",
    "import pandas as pd\n",
    "import numpy as np\n",
    "import matplotlib.pyplot as plt\n",
    "import seaborn as sns\n"
   ]
  },
  {
   "cell_type": "markdown",
   "metadata": {},
   "source": [
    "### *Dataset 1:Restaurants Dataset*"
   ]
  },
  {
   "cell_type": "code",
   "execution_count": 48,
   "metadata": {},
   "outputs": [
    {
     "data": {
      "text/html": [
       "<div>\n",
       "<style scoped>\n",
       "    .dataframe tbody tr th:only-of-type {\n",
       "        vertical-align: middle;\n",
       "    }\n",
       "\n",
       "    .dataframe tbody tr th {\n",
       "        vertical-align: top;\n",
       "    }\n",
       "\n",
       "    .dataframe thead th {\n",
       "        text-align: right;\n",
       "    }\n",
       "</style>\n",
       "<table border=\"1\" class=\"dataframe\">\n",
       "  <thead>\n",
       "    <tr style=\"text-align: right;\">\n",
       "      <th></th>\n",
       "      <th>id</th>\n",
       "      <th>position</th>\n",
       "      <th>name</th>\n",
       "      <th>score</th>\n",
       "      <th>ratings</th>\n",
       "      <th>category</th>\n",
       "      <th>price_range</th>\n",
       "      <th>full_address</th>\n",
       "      <th>zip_code</th>\n",
       "      <th>lat</th>\n",
       "      <th>lng</th>\n",
       "    </tr>\n",
       "  </thead>\n",
       "  <tbody>\n",
       "    <tr>\n",
       "      <th>0</th>\n",
       "      <td>1</td>\n",
       "      <td>19</td>\n",
       "      <td>PJ Fresh (224 Daniel Payne Drive)</td>\n",
       "      <td>NaN</td>\n",
       "      <td>NaN</td>\n",
       "      <td>Burgers, American, Sandwiches</td>\n",
       "      <td>$</td>\n",
       "      <td>224 Daniel Payne Drive, Birmingham, AL, 35207</td>\n",
       "      <td>35207</td>\n",
       "      <td>33.562365</td>\n",
       "      <td>-86.830703</td>\n",
       "    </tr>\n",
       "    <tr>\n",
       "      <th>1</th>\n",
       "      <td>2</td>\n",
       "      <td>9</td>\n",
       "      <td>J' ti`'z Smoothie-N-Coffee Bar</td>\n",
       "      <td>NaN</td>\n",
       "      <td>NaN</td>\n",
       "      <td>Coffee and Tea, Breakfast and Brunch, Bubble Tea</td>\n",
       "      <td>NaN</td>\n",
       "      <td>1521 Pinson Valley Parkway, Birmingham, AL, 35217</td>\n",
       "      <td>35217</td>\n",
       "      <td>33.583640</td>\n",
       "      <td>-86.773330</td>\n",
       "    </tr>\n",
       "    <tr>\n",
       "      <th>2</th>\n",
       "      <td>3</td>\n",
       "      <td>6</td>\n",
       "      <td>Philly Fresh Cheesesteaks (541-B Graymont Ave)</td>\n",
       "      <td>NaN</td>\n",
       "      <td>NaN</td>\n",
       "      <td>American, Cheesesteak, Sandwiches, Alcohol</td>\n",
       "      <td>$</td>\n",
       "      <td>541-B Graymont Ave, Birmingham, AL, 35204</td>\n",
       "      <td>35204</td>\n",
       "      <td>33.509800</td>\n",
       "      <td>-86.854640</td>\n",
       "    </tr>\n",
       "    <tr>\n",
       "      <th>3</th>\n",
       "      <td>4</td>\n",
       "      <td>17</td>\n",
       "      <td>Papa Murphy's (1580 Montgomery Highway)</td>\n",
       "      <td>NaN</td>\n",
       "      <td>NaN</td>\n",
       "      <td>Pizza</td>\n",
       "      <td>$</td>\n",
       "      <td>1580 Montgomery Highway, Hoover, AL, 35226</td>\n",
       "      <td>35226</td>\n",
       "      <td>33.404439</td>\n",
       "      <td>-86.806614</td>\n",
       "    </tr>\n",
       "    <tr>\n",
       "      <th>4</th>\n",
       "      <td>5</td>\n",
       "      <td>162</td>\n",
       "      <td>Nelson Brothers Cafe (17th St N)</td>\n",
       "      <td>4.7</td>\n",
       "      <td>22.0</td>\n",
       "      <td>Breakfast and Brunch, Burgers, Sandwiches</td>\n",
       "      <td>NaN</td>\n",
       "      <td>314 17th St N, Birmingham, AL, 35203</td>\n",
       "      <td>35203</td>\n",
       "      <td>33.514730</td>\n",
       "      <td>-86.811700</td>\n",
       "    </tr>\n",
       "  </tbody>\n",
       "</table>\n",
       "</div>"
      ],
      "text/plain": [
       "   id  position                                            name  score  \\\n",
       "0   1        19               PJ Fresh (224 Daniel Payne Drive)    NaN   \n",
       "1   2         9                  J' ti`'z Smoothie-N-Coffee Bar    NaN   \n",
       "2   3         6  Philly Fresh Cheesesteaks (541-B Graymont Ave)    NaN   \n",
       "3   4        17         Papa Murphy's (1580 Montgomery Highway)    NaN   \n",
       "4   5       162                Nelson Brothers Cafe (17th St N)    4.7   \n",
       "\n",
       "   ratings                                          category price_range  \\\n",
       "0      NaN                     Burgers, American, Sandwiches           $   \n",
       "1      NaN  Coffee and Tea, Breakfast and Brunch, Bubble Tea         NaN   \n",
       "2      NaN        American, Cheesesteak, Sandwiches, Alcohol           $   \n",
       "3      NaN                                             Pizza           $   \n",
       "4     22.0         Breakfast and Brunch, Burgers, Sandwiches         NaN   \n",
       "\n",
       "                                        full_address zip_code        lat  \\\n",
       "0      224 Daniel Payne Drive, Birmingham, AL, 35207    35207  33.562365   \n",
       "1  1521 Pinson Valley Parkway, Birmingham, AL, 35217    35217  33.583640   \n",
       "2          541-B Graymont Ave, Birmingham, AL, 35204    35204  33.509800   \n",
       "3         1580 Montgomery Highway, Hoover, AL, 35226    35226  33.404439   \n",
       "4               314 17th St N, Birmingham, AL, 35203    35203  33.514730   \n",
       "\n",
       "         lng  \n",
       "0 -86.830703  \n",
       "1 -86.773330  \n",
       "2 -86.854640  \n",
       "3 -86.806614  \n",
       "4 -86.811700  "
      ]
     },
     "execution_count": 48,
     "metadata": {},
     "output_type": "execute_result"
    }
   ],
   "source": [
    "#Loading data into a Pandas DataFrame\n",
    "restaurants = pd.read_csv(\"./data/restaurants.csv\")\n",
    "#Previewing the first few rows\n",
    "restaurants.head()"
   ]
  },
  {
   "cell_type": "code",
   "execution_count": 49,
   "metadata": {},
   "outputs": [
    {
     "name": "stdout",
     "output_type": "stream",
     "text": [
      "The number of rows: 63469\n",
      "The number of columns:11\n"
     ]
    }
   ],
   "source": [
    "#Shape of the dataframe\n",
    "print(\"The number of rows: {}\".format(restaurants.shape[0]))\n",
    "\n",
    "print(\"The number of columns:{}\".format(restaurants.shape[1]))"
   ]
  },
  {
   "cell_type": "code",
   "execution_count": 50,
   "metadata": {},
   "outputs": [
    {
     "name": "stdout",
     "output_type": "stream",
     "text": [
      "<class 'pandas.core.frame.DataFrame'>\n",
      "RangeIndex: 63469 entries, 0 to 63468\n",
      "Data columns (total 11 columns):\n",
      " #   Column        Non-Null Count  Dtype  \n",
      "---  ------        --------------  -----  \n",
      " 0   id            63469 non-null  int64  \n",
      " 1   position      63469 non-null  int64  \n",
      " 2   name          63469 non-null  object \n",
      " 3   score         35302 non-null  float64\n",
      " 4   ratings       35302 non-null  float64\n",
      " 5   category      63384 non-null  object \n",
      " 6   price_range   52852 non-null  object \n",
      " 7   full_address  63016 non-null  object \n",
      " 8   zip_code      62952 non-null  object \n",
      " 9   lat           63469 non-null  float64\n",
      " 10  lng           63469 non-null  float64\n",
      "dtypes: float64(4), int64(2), object(5)\n",
      "memory usage: 5.3+ MB\n"
     ]
    }
   ],
   "source": [
    "#General information about the dataset\n",
    "restaurants.info()"
   ]
  },
  {
   "cell_type": "markdown",
   "metadata": {},
   "source": [
    "The restaurants dataset 63469 rows and 11 columns. The columns with missing data are `score`, `ratings`, `category`, `price_range`, `full_address`,and `zip_code`"
   ]
  },
  {
   "cell_type": "markdown",
   "metadata": {},
   "source": [
    "### *Dataset 2:Menus Dataset*"
   ]
  },
  {
   "cell_type": "code",
   "execution_count": 51,
   "metadata": {},
   "outputs": [
    {
     "data": {
      "text/html": [
       "<div>\n",
       "<style scoped>\n",
       "    .dataframe tbody tr th:only-of-type {\n",
       "        vertical-align: middle;\n",
       "    }\n",
       "\n",
       "    .dataframe tbody tr th {\n",
       "        vertical-align: top;\n",
       "    }\n",
       "\n",
       "    .dataframe thead th {\n",
       "        text-align: right;\n",
       "    }\n",
       "</style>\n",
       "<table border=\"1\" class=\"dataframe\">\n",
       "  <thead>\n",
       "    <tr style=\"text-align: right;\">\n",
       "      <th></th>\n",
       "      <th>restaurant_id</th>\n",
       "      <th>category</th>\n",
       "      <th>name</th>\n",
       "      <th>description</th>\n",
       "      <th>price</th>\n",
       "    </tr>\n",
       "  </thead>\n",
       "  <tbody>\n",
       "    <tr>\n",
       "      <th>5117212</th>\n",
       "      <td>63469</td>\n",
       "      <td>Other Essentials</td>\n",
       "      <td>Composition Notebook</td>\n",
       "      <td>NaN</td>\n",
       "      <td>4.38 USD</td>\n",
       "    </tr>\n",
       "    <tr>\n",
       "      <th>5117213</th>\n",
       "      <td>63469</td>\n",
       "      <td>Other Essentials</td>\n",
       "      <td>Fancy Fest Savory Salmon - 3oz</td>\n",
       "      <td>NaN</td>\n",
       "      <td>1.19 USD</td>\n",
       "    </tr>\n",
       "    <tr>\n",
       "      <th>5117214</th>\n",
       "      <td>63469</td>\n",
       "      <td>Other Essentials</td>\n",
       "      <td>Bicycle Playing Cards</td>\n",
       "      <td>NaN</td>\n",
       "      <td>3.83 USD</td>\n",
       "    </tr>\n",
       "    <tr>\n",
       "      <th>5117215</th>\n",
       "      <td>63469</td>\n",
       "      <td>Other Essentials</td>\n",
       "      <td>Tidy Cat Liter - 10lbs</td>\n",
       "      <td>NaN</td>\n",
       "      <td>4.38 USD</td>\n",
       "    </tr>\n",
       "    <tr>\n",
       "      <th>5117216</th>\n",
       "      <td>63469</td>\n",
       "      <td>Other Essentials</td>\n",
       "      <td>7-Select Heavy Duty Foam Cooler</td>\n",
       "      <td>NaN</td>\n",
       "      <td>6.8 USD</td>\n",
       "    </tr>\n",
       "  </tbody>\n",
       "</table>\n",
       "</div>"
      ],
      "text/plain": [
       "         restaurant_id          category                             name  \\\n",
       "5117212          63469  Other Essentials             Composition Notebook   \n",
       "5117213          63469  Other Essentials   Fancy Fest Savory Salmon - 3oz   \n",
       "5117214          63469  Other Essentials            Bicycle Playing Cards   \n",
       "5117215          63469  Other Essentials           Tidy Cat Liter - 10lbs   \n",
       "5117216          63469  Other Essentials  7-Select Heavy Duty Foam Cooler   \n",
       "\n",
       "        description     price  \n",
       "5117212         NaN  4.38 USD  \n",
       "5117213         NaN  1.19 USD  \n",
       "5117214         NaN  3.83 USD  \n",
       "5117215         NaN  4.38 USD  \n",
       "5117216         NaN   6.8 USD  "
      ]
     },
     "execution_count": 51,
     "metadata": {},
     "output_type": "execute_result"
    }
   ],
   "source": [
    "#Loading the data into the Pandas DataFrame\n",
    "menus = pd.read_csv(\"./data/restaurant-menus.csv\")\n",
    "#Previewing the last few rows\n",
    "menus.tail()"
   ]
  },
  {
   "cell_type": "code",
   "execution_count": 52,
   "metadata": {},
   "outputs": [
    {
     "name": "stdout",
     "output_type": "stream",
     "text": [
      "The number of rows: 5117217\n",
      "The number of columns:5\n"
     ]
    }
   ],
   "source": [
    "#Shape of the dataframe\n",
    "print(\"The number of rows: {}\".format(menus.shape[0]))\n",
    "\n",
    "print(\"The number of columns:{}\".format(menus.shape[1]))"
   ]
  },
  {
   "cell_type": "code",
   "execution_count": 53,
   "metadata": {},
   "outputs": [
    {
     "name": "stdout",
     "output_type": "stream",
     "text": [
      "<class 'pandas.core.frame.DataFrame'>\n",
      "RangeIndex: 5117217 entries, 0 to 5117216\n",
      "Data columns (total 5 columns):\n",
      " #   Column         Dtype \n",
      "---  ------         ----- \n",
      " 0   restaurant_id  int64 \n",
      " 1   category       object\n",
      " 2   name           object\n",
      " 3   description    object\n",
      " 4   price          object\n",
      "dtypes: int64(1), object(4)\n",
      "memory usage: 195.2+ MB\n"
     ]
    }
   ],
   "source": [
    "#General information about the dataset\n",
    "menus.info()"
   ]
  },
  {
   "cell_type": "markdown",
   "metadata": {},
   "source": [
    "# **DATA PREPARATION**\n",
    "\n",
    "During the Data Preparation phase, we will be performing a series of essential tasks to prepare our raw data for analysis. This phase includes the following key activities:\n",
    "\n",
    "*Merging Datasets:*\n",
    "We will combine multiple datasets, if available, to create a comprehensive dataset that encompasses all relevant information for our analysis. This may involve joining datasets based on common keys or merging them using appropriate techniques.\n",
    "\n",
    "*Deriving New Attributes:*\n",
    "To enhance the richness of our dataset and capture additional insights, we will create new attributes or features through feature engineering. This process involves transforming existing variables, generating new variables, or extracting valuable information from the data.\n",
    "\n",
    "*Data Cleaning:*\n",
    "Data cleaning is a crucial step that involves identifying and addressing various data quality issues, such as missing values, outliers, duplicates, and inconsistencies. We will employ techniques such as imputation, deletion, outlier detection, and data validation to ensure the integrity and quality of our dataset.\n",
    "\n",
    "*Exploratory Data Analysis (EDA):*\n",
    "EDA plays a vital role in understanding the underlying patterns, trends, and relationships within our data. We will perform exploratory data analysis to visualize distributions, examine correlations, detect patterns, and gain insights into the characteristics of our dataset. This will guide our subsequent analysis and decision-making processes."
   ]
  },
  {
   "cell_type": "markdown",
   "metadata": {},
   "source": [
    "### **DATA CLEANING**\n",
    ">> We will begin our Data Preparation phase by prioritizing data cleaning for individual datasets before merging. This approach allows us to address data inconsistencies, missing values, duplicates, outliers, and other quality issues specific to each dataset. By cleaning the datasets individually, we can ensure data integrity and consistency before merging. Additionally, considering differences in data sizes and structures among datasets, cleaning them separately facilitates more focused and efficient data cleaning efforts. Once each dataset is cleaned and standardized, we will proceed with merging them to create a comprehensive dataset for further analysis."
   ]
  },
  {
   "cell_type": "code",
   "execution_count": 54,
   "metadata": {},
   "outputs": [],
   "source": [
    "def check_missing_values(df):\n",
    "   \n",
    "    missing_count = df.isnull().sum()  # Count missing values in each column\n",
    "    missing_percentage = (missing_count / len(df)) * 100  # Calculate percentage of missing values\n",
    "\n",
    "    # Create DataFrame to display missing values count and percentage\n",
    "    missing_values = pd.DataFrame({\n",
    "        'Missing Values': missing_count,\n",
    "        'Percentage': missing_percentage.round(2)\n",
    "    })\n",
    "    \n",
    "    return missing_values"
   ]
  },
  {
   "cell_type": "code",
   "execution_count": 55,
   "metadata": {},
   "outputs": [
    {
     "data": {
      "text/html": [
       "<div>\n",
       "<style scoped>\n",
       "    .dataframe tbody tr th:only-of-type {\n",
       "        vertical-align: middle;\n",
       "    }\n",
       "\n",
       "    .dataframe tbody tr th {\n",
       "        vertical-align: top;\n",
       "    }\n",
       "\n",
       "    .dataframe thead th {\n",
       "        text-align: right;\n",
       "    }\n",
       "</style>\n",
       "<table border=\"1\" class=\"dataframe\">\n",
       "  <thead>\n",
       "    <tr style=\"text-align: right;\">\n",
       "      <th></th>\n",
       "      <th>Missing Values</th>\n",
       "      <th>Percentage</th>\n",
       "    </tr>\n",
       "  </thead>\n",
       "  <tbody>\n",
       "    <tr>\n",
       "      <th>id</th>\n",
       "      <td>0</td>\n",
       "      <td>0.00</td>\n",
       "    </tr>\n",
       "    <tr>\n",
       "      <th>position</th>\n",
       "      <td>0</td>\n",
       "      <td>0.00</td>\n",
       "    </tr>\n",
       "    <tr>\n",
       "      <th>name</th>\n",
       "      <td>0</td>\n",
       "      <td>0.00</td>\n",
       "    </tr>\n",
       "    <tr>\n",
       "      <th>score</th>\n",
       "      <td>28167</td>\n",
       "      <td>44.38</td>\n",
       "    </tr>\n",
       "    <tr>\n",
       "      <th>ratings</th>\n",
       "      <td>28167</td>\n",
       "      <td>44.38</td>\n",
       "    </tr>\n",
       "    <tr>\n",
       "      <th>category</th>\n",
       "      <td>85</td>\n",
       "      <td>0.13</td>\n",
       "    </tr>\n",
       "    <tr>\n",
       "      <th>price_range</th>\n",
       "      <td>10617</td>\n",
       "      <td>16.73</td>\n",
       "    </tr>\n",
       "    <tr>\n",
       "      <th>full_address</th>\n",
       "      <td>453</td>\n",
       "      <td>0.71</td>\n",
       "    </tr>\n",
       "    <tr>\n",
       "      <th>zip_code</th>\n",
       "      <td>517</td>\n",
       "      <td>0.81</td>\n",
       "    </tr>\n",
       "    <tr>\n",
       "      <th>lat</th>\n",
       "      <td>0</td>\n",
       "      <td>0.00</td>\n",
       "    </tr>\n",
       "    <tr>\n",
       "      <th>lng</th>\n",
       "      <td>0</td>\n",
       "      <td>0.00</td>\n",
       "    </tr>\n",
       "  </tbody>\n",
       "</table>\n",
       "</div>"
      ],
      "text/plain": [
       "              Missing Values  Percentage\n",
       "id                         0        0.00\n",
       "position                   0        0.00\n",
       "name                       0        0.00\n",
       "score                  28167       44.38\n",
       "ratings                28167       44.38\n",
       "category                  85        0.13\n",
       "price_range            10617       16.73\n",
       "full_address             453        0.71\n",
       "zip_code                 517        0.81\n",
       "lat                        0        0.00\n",
       "lng                        0        0.00"
      ]
     },
     "execution_count": 55,
     "metadata": {},
     "output_type": "execute_result"
    }
   ],
   "source": [
    "check_missing_values(restaurants)"
   ]
  },
  {
   "cell_type": "markdown",
   "metadata": {},
   "source": [
    "#### *Dealing with Missing Values*"
   ]
  },
  {
   "cell_type": "markdown",
   "metadata": {},
   "source": [
    "The columns '`id`, `position`, `name`, `lat`, and `lng` have no missing values (0% missing). These columns are complete and do not require imputation or further handling for missing data.\n",
    "\n",
    "The columns `score` and `ratings` have a significant proportion of missing values, with approximately `44.38%`missing in each column. This suggests that a large portion of the data in these columns is missing.Given the significance of these features and their importance for the analysis, median imputation will be done to handle the missing values.\n",
    "\n",
    "The columns `category`, `price_range`, `full_address`, and `zip_code` have relatively fewer missing values, ranging from 0.13% to 16.73%, it's worth considering whether these missing values are significant enough to warrant deletion."
   ]
  },
  {
   "cell_type": "code",
   "execution_count": 56,
   "metadata": {},
   "outputs": [],
   "source": [
    "# Median imputation for 'score' and 'ratings' columns\n",
    "median_score = restaurants['score'].median()\n",
    "median_ratings = restaurants['ratings'].median()\n",
    "restaurants['score'] = restaurants['score'].fillna(median_score)\n",
    "restaurants['ratings'] = restaurants['ratings'].fillna(median_ratings)"
   ]
  },
  {
   "cell_type": "code",
   "execution_count": 57,
   "metadata": {},
   "outputs": [],
   "source": [
    "# Deletion of rows with missing values in 'category', 'price_range', 'full_address', and 'zip_code' columns\n",
    "restaurants.dropna(subset=['category', 'price_range', 'full_address', 'zip_code'], inplace=True)"
   ]
  },
  {
   "cell_type": "code",
   "execution_count": 58,
   "metadata": {},
   "outputs": [
    {
     "data": {
      "text/html": [
       "<div>\n",
       "<style scoped>\n",
       "    .dataframe tbody tr th:only-of-type {\n",
       "        vertical-align: middle;\n",
       "    }\n",
       "\n",
       "    .dataframe tbody tr th {\n",
       "        vertical-align: top;\n",
       "    }\n",
       "\n",
       "    .dataframe thead th {\n",
       "        text-align: right;\n",
       "    }\n",
       "</style>\n",
       "<table border=\"1\" class=\"dataframe\">\n",
       "  <thead>\n",
       "    <tr style=\"text-align: right;\">\n",
       "      <th></th>\n",
       "      <th>Missing Values</th>\n",
       "      <th>Percentage</th>\n",
       "    </tr>\n",
       "  </thead>\n",
       "  <tbody>\n",
       "    <tr>\n",
       "      <th>restaurant_id</th>\n",
       "      <td>0</td>\n",
       "      <td>0.00</td>\n",
       "    </tr>\n",
       "    <tr>\n",
       "      <th>category</th>\n",
       "      <td>0</td>\n",
       "      <td>0.00</td>\n",
       "    </tr>\n",
       "    <tr>\n",
       "      <th>name</th>\n",
       "      <td>4</td>\n",
       "      <td>0.00</td>\n",
       "    </tr>\n",
       "    <tr>\n",
       "      <th>description</th>\n",
       "      <td>1452145</td>\n",
       "      <td>28.38</td>\n",
       "    </tr>\n",
       "    <tr>\n",
       "      <th>price</th>\n",
       "      <td>0</td>\n",
       "      <td>0.00</td>\n",
       "    </tr>\n",
       "  </tbody>\n",
       "</table>\n",
       "</div>"
      ],
      "text/plain": [
       "               Missing Values  Percentage\n",
       "restaurant_id               0        0.00\n",
       "category                    0        0.00\n",
       "name                        4        0.00\n",
       "description           1452145       28.38\n",
       "price                       0        0.00"
      ]
     },
     "execution_count": 58,
     "metadata": {},
     "output_type": "execute_result"
    }
   ],
   "source": [
    "check_missing_values(menus)"
   ]
  },
  {
   "cell_type": "markdown",
   "metadata": {},
   "source": [
    "#### *Dealing with Missing Values*"
   ]
  },
  {
   "cell_type": "markdown",
   "metadata": {},
   "source": [
    "The `description` column stands out as having a substantial number of missing values. To address this issue, rows with missing values in the 'description' column will be deleted to ensure data integrity.\n",
    "The other columns (`restaurant_id`, `category`, '`name`, and `price`) have either no missing values or a negligible number of missing values, suggesting that they are relatively complete and may not require extensive handling for missing data."
   ]
  },
  {
   "cell_type": "code",
   "execution_count": 59,
   "metadata": {},
   "outputs": [],
   "source": [
    "# Deletion of rows with missing values in 'description' column\n",
    "menus.dropna(subset=['description','name'], inplace=True)"
   ]
  },
  {
   "cell_type": "markdown",
   "metadata": {},
   "source": [
    ">> In addition to handling missing values, ensuring the absence of duplicate data is crucial for maintaining the integrity and reliability of our datasets. Data duplicates can skew analysis results, leading to inaccurate insights and conclusions. Therefore, as part of our data cleaning process, we will systematically check for and remove any duplicate entries within each dataset."
   ]
  },
  {
   "cell_type": "code",
   "execution_count": 60,
   "metadata": {},
   "outputs": [
    {
     "name": "stdout",
     "output_type": "stream",
     "text": [
      "No duplicates found in the DataFrame.\n"
     ]
    }
   ],
   "source": [
    "def check_duplicates(df):\n",
    "    \n",
    "    duplicates = df.duplicated().any()\n",
    "    return duplicates\n",
    "\n",
    "# Check for duplicates in the restaurants DataFrame\n",
    "has_duplicates = check_duplicates(restaurants)\n",
    "\n",
    "# Print the result\n",
    "if has_duplicates:\n",
    "    print(\"Duplicates found in the DataFrame.\")\n",
    "else:\n",
    "    print(\"No duplicates found in the DataFrame.\")\n"
   ]
  },
  {
   "cell_type": "code",
   "execution_count": 61,
   "metadata": {},
   "outputs": [
    {
     "name": "stdout",
     "output_type": "stream",
     "text": [
      "Duplicates found in the DataFrame.\n"
     ]
    }
   ],
   "source": [
    "# Check for duplicates in the restaurants DataFrame\n",
    "has_duplicates = check_duplicates(menus)\n",
    "\n",
    "# Print the result\n",
    "if has_duplicates:\n",
    "    print(\"Duplicates found in the DataFrame.\")\n",
    "else:\n",
    "    print(\"No duplicates found in the DataFrame.\")"
   ]
  },
  {
   "cell_type": "markdown",
   "metadata": {},
   "source": [
    ">>> Upon examining the menus DataFrame, it appears that duplicate rows have been detected. To further investigate the extent of duplication and gain insight into the duplicated data, we can inspect the DataFrame containing these duplicate rows. This will allow us to identify the specific duplicated entries and assess any patterns or inconsistencies present in the data. By closely examining these duplicates, we can make informed decisions regarding the appropriate actions to take, such as removal or additional data cleaning measures."
   ]
  },
  {
   "cell_type": "code",
   "execution_count": 62,
   "metadata": {},
   "outputs": [
    {
     "name": "stdout",
     "output_type": "stream",
     "text": [
      "Duplicates found in the DataFrame:\n",
      "         restaurant_id          category  \\\n",
      "379                  7  Nigiri / Sashimi   \n",
      "380                  7  Nigiri / Sashimi   \n",
      "381                  7  Nigiri / Sashimi   \n",
      "388                  7  Nigiri / Sashimi   \n",
      "10677              165         Beverages   \n",
      "...                ...               ...   \n",
      "5116337          63449   Spring & Summer   \n",
      "5116339          63449   Spring & Summer   \n",
      "5116341          63449   Spring & Summer   \n",
      "5117028          63469              Food   \n",
      "5117040          63469              Food   \n",
      "\n",
      "                                                      name  \\\n",
      "379                                            Tuna Tataki   \n",
      "380                                                 Amaebi   \n",
      "381                                                 Amaebi   \n",
      "388                                            Tuna Tataki   \n",
      "10677                                  Strawberry Lemonade   \n",
      "...                                                    ...   \n",
      "5116337  Moon & Stars Satin Trim Blanket And Animal Set...   \n",
      "5116339            Moon & Stars My Favorite Plush - 1.0 ea   \n",
      "5116341  Moon & Stars Satin Trim Blanket And Animal Set...   \n",
      "5117028                                 Mini Tacos - 10 pc   \n",
      "5117040                                 Mini Tacos - 10 pc   \n",
      "\n",
      "                                               description      price  \n",
      "379                                           Seared tuna.    6.0 USD  \n",
      "380                                          Sweet shrimp.    7.0 USD  \n",
      "381                                          Sweet shrimp.    7.0 USD  \n",
      "388                                           Seared tuna.    6.0 USD  \n",
      "10677    Chilled lemonade infused with the sweet taste ...   3.83 USD  \n",
      "...                                                    ...        ...  \n",
      "5116337  This baby item combines cute plush toy and nic...  15.73 USD  \n",
      "5116339  It is a warm & cozy cuddle pal that keeps your...  13.63 USD  \n",
      "5116341  This baby item combines cute plush toy and nic...  15.73 USD  \n",
      "5117028                                           10 Count   5.32 USD  \n",
      "5117040                                           10 Count   5.32 USD  \n",
      "\n",
      "[41420 rows x 5 columns]\n"
     ]
    }
   ],
   "source": [
    "# Check for duplicates in the 'menus' DataFrame across all columns\n",
    "duplicate_menus = menus[menus.duplicated(keep=False)]\n",
    "\n",
    "# Display duplicate rows for inspection\n",
    "print(\"Duplicates found in the DataFrame:\")\n",
    "print(duplicate_menus)\n"
   ]
  },
  {
   "cell_type": "code",
   "execution_count": 63,
   "metadata": {},
   "outputs": [
    {
     "name": "stdout",
     "output_type": "stream",
     "text": [
      "Duplicates removed. New DataFrame shape: (3644316, 5)\n"
     ]
    }
   ],
   "source": [
    "# Keep the first occurrence of each duplicated row and drop the rest\n",
    "menus_cleaned = menus.drop_duplicates(keep='first')\n",
    "\n",
    "# Confirm that duplicates have been removed\n",
    "print(\"Duplicates removed. New DataFrame shape:\", menus_cleaned.shape)"
   ]
  },
  {
   "cell_type": "markdown",
   "metadata": {},
   "source": [
    "#### *Merging the Datasets*\n",
    ">> Merging datasets involves combining multiple datasets into a single comprehensive dataset. This process is essential for integrating data from different sources to perform unified analyses. In our case, we have two datasets: one containing information about restaurants and another containing menu data. Merging these datasets allows us to create a unified dataset that includes both restaurant details and their respective menus."
   ]
  },
  {
   "cell_type": "code",
   "execution_count": 64,
   "metadata": {},
   "outputs": [],
   "source": [
    "# Merging the restaurant dataset with the menu dataset\n",
    "merged_data=restaurants.merge(menus, left_on='id', right_on='restaurant_id', how=\"outer\")"
   ]
  },
  {
   "cell_type": "code",
   "execution_count": 65,
   "metadata": {},
   "outputs": [
    {
     "name": "stdout",
     "output_type": "stream",
     "text": [
      "Shape of merged dataset: (3666905, 16)\n"
     ]
    },
    {
     "ename": "KeyboardInterrupt",
     "evalue": "",
     "output_type": "error",
     "traceback": [
      "\u001b[1;31m---------------------------------------------------------------------------\u001b[0m",
      "\u001b[1;31mKeyboardInterrupt\u001b[0m                         Traceback (most recent call last)",
      "\u001b[1;32m~\\AppData\\Local\\Temp\\ipykernel_7112\\2352190972.py\u001b[0m in \u001b[0;36m?\u001b[1;34m()\u001b[0m\n\u001b[0;32m      1\u001b[0m \u001b[1;31m# Display the merged dataset\u001b[0m\u001b[1;33m\u001b[0m\u001b[1;33m\u001b[0m\u001b[0m\n\u001b[0;32m      2\u001b[0m \u001b[0mprint\u001b[0m\u001b[1;33m(\u001b[0m\u001b[1;34m\"Shape of merged dataset:\"\u001b[0m\u001b[1;33m,\u001b[0m \u001b[0mmerged_data\u001b[0m\u001b[1;33m.\u001b[0m\u001b[0mshape\u001b[0m\u001b[1;33m)\u001b[0m\u001b[1;33m\u001b[0m\u001b[1;33m\u001b[0m\u001b[0m\n\u001b[0;32m      3\u001b[0m \u001b[1;31m# Display the first few rows of the merged dataset in table format\u001b[0m\u001b[1;33m\u001b[0m\u001b[1;33m\u001b[0m\u001b[0m\n\u001b[1;32m----> 4\u001b[1;33m \u001b[0mmerged_data\u001b[0m\u001b[1;33m.\u001b[0m\u001b[0mhead\u001b[0m\u001b[1;33m(\u001b[0m\u001b[1;33m)\u001b[0m\u001b[1;33m\u001b[0m\u001b[1;33m\u001b[0m\u001b[0m\n\u001b[0m",
      "\u001b[1;32m~\\AppData\\Roaming\\Python\\Python312\\site-packages\\decorator.py\u001b[0m in \u001b[0;36m?\u001b[1;34m(*args, **kw)\u001b[0m\n\u001b[0;32m    229\u001b[0m         \u001b[1;32mdef\u001b[0m \u001b[0mfun\u001b[0m\u001b[1;33m(\u001b[0m\u001b[1;33m*\u001b[0m\u001b[0margs\u001b[0m\u001b[1;33m,\u001b[0m \u001b[1;33m**\u001b[0m\u001b[0mkw\u001b[0m\u001b[1;33m)\u001b[0m\u001b[1;33m:\u001b[0m\u001b[1;33m\u001b[0m\u001b[1;33m\u001b[0m\u001b[0m\n\u001b[0;32m    230\u001b[0m             \u001b[1;32mif\u001b[0m \u001b[1;32mnot\u001b[0m \u001b[0mkwsyntax\u001b[0m\u001b[1;33m:\u001b[0m\u001b[1;33m\u001b[0m\u001b[1;33m\u001b[0m\u001b[0m\n\u001b[0;32m    231\u001b[0m                 \u001b[0margs\u001b[0m\u001b[1;33m,\u001b[0m \u001b[0mkw\u001b[0m \u001b[1;33m=\u001b[0m \u001b[0mfix\u001b[0m\u001b[1;33m(\u001b[0m\u001b[0margs\u001b[0m\u001b[1;33m,\u001b[0m \u001b[0mkw\u001b[0m\u001b[1;33m,\u001b[0m \u001b[0msig\u001b[0m\u001b[1;33m)\u001b[0m\u001b[1;33m\u001b[0m\u001b[1;33m\u001b[0m\u001b[0m\n\u001b[1;32m--> 232\u001b[1;33m             \u001b[1;32mreturn\u001b[0m \u001b[0mcaller\u001b[0m\u001b[1;33m(\u001b[0m\u001b[0mfunc\u001b[0m\u001b[1;33m,\u001b[0m \u001b[1;33m*\u001b[0m\u001b[1;33m(\u001b[0m\u001b[0mextras\u001b[0m \u001b[1;33m+\u001b[0m \u001b[0margs\u001b[0m\u001b[1;33m)\u001b[0m\u001b[1;33m,\u001b[0m \u001b[1;33m**\u001b[0m\u001b[0mkw\u001b[0m\u001b[1;33m)\u001b[0m\u001b[1;33m\u001b[0m\u001b[1;33m\u001b[0m\u001b[0m\n\u001b[0m",
      "\u001b[1;32mc:\\Users\\ndung\\AppData\\Local\\Programs\\Python\\Python312\\Lib\\site-packages\\pandas\\core\\frame.py\u001b[0m in \u001b[0;36m?\u001b[1;34m(self)\u001b[0m\n\u001b[0;32m   1199\u001b[0m             \u001b[0mself\u001b[0m\u001b[1;33m.\u001b[0m\u001b[0minfo\u001b[0m\u001b[1;33m(\u001b[0m\u001b[0mbuf\u001b[0m\u001b[1;33m=\u001b[0m\u001b[0mbuf\u001b[0m\u001b[1;33m)\u001b[0m\u001b[1;33m\u001b[0m\u001b[1;33m\u001b[0m\u001b[0m\n\u001b[0;32m   1200\u001b[0m             \u001b[1;32mreturn\u001b[0m \u001b[0mbuf\u001b[0m\u001b[1;33m.\u001b[0m\u001b[0mgetvalue\u001b[0m\u001b[1;33m(\u001b[0m\u001b[1;33m)\u001b[0m\u001b[1;33m\u001b[0m\u001b[1;33m\u001b[0m\u001b[0m\n\u001b[0;32m   1201\u001b[0m \u001b[1;33m\u001b[0m\u001b[0m\n\u001b[0;32m   1202\u001b[0m         \u001b[0mrepr_params\u001b[0m \u001b[1;33m=\u001b[0m \u001b[0mfmt\u001b[0m\u001b[1;33m.\u001b[0m\u001b[0mget_dataframe_repr_params\u001b[0m\u001b[1;33m(\u001b[0m\u001b[1;33m)\u001b[0m\u001b[1;33m\u001b[0m\u001b[1;33m\u001b[0m\u001b[0m\n\u001b[1;32m-> 1203\u001b[1;33m         \u001b[1;32mreturn\u001b[0m \u001b[0mself\u001b[0m\u001b[1;33m.\u001b[0m\u001b[0mto_string\u001b[0m\u001b[1;33m(\u001b[0m\u001b[1;33m**\u001b[0m\u001b[0mrepr_params\u001b[0m\u001b[1;33m)\u001b[0m\u001b[1;33m\u001b[0m\u001b[1;33m\u001b[0m\u001b[0m\n\u001b[0m",
      "\u001b[1;32mc:\\Users\\ndung\\AppData\\Local\\Programs\\Python\\Python312\\Lib\\site-packages\\pandas\\util\\_decorators.py\u001b[0m in \u001b[0;36m?\u001b[1;34m(*args, **kwargs)\u001b[0m\n\u001b[0;32m    329\u001b[0m                     \u001b[0mmsg\u001b[0m\u001b[1;33m.\u001b[0m\u001b[0mformat\u001b[0m\u001b[1;33m(\u001b[0m\u001b[0marguments\u001b[0m\u001b[1;33m=\u001b[0m\u001b[0m_format_argument_list\u001b[0m\u001b[1;33m(\u001b[0m\u001b[0mallow_args\u001b[0m\u001b[1;33m)\u001b[0m\u001b[1;33m)\u001b[0m\u001b[1;33m,\u001b[0m\u001b[1;33m\u001b[0m\u001b[1;33m\u001b[0m\u001b[0m\n\u001b[0;32m    330\u001b[0m                     \u001b[0mFutureWarning\u001b[0m\u001b[1;33m,\u001b[0m\u001b[1;33m\u001b[0m\u001b[1;33m\u001b[0m\u001b[0m\n\u001b[0;32m    331\u001b[0m                     \u001b[0mstacklevel\u001b[0m\u001b[1;33m=\u001b[0m\u001b[0mfind_stack_level\u001b[0m\u001b[1;33m(\u001b[0m\u001b[1;33m)\u001b[0m\u001b[1;33m,\u001b[0m\u001b[1;33m\u001b[0m\u001b[1;33m\u001b[0m\u001b[0m\n\u001b[0;32m    332\u001b[0m                 \u001b[1;33m)\u001b[0m\u001b[1;33m\u001b[0m\u001b[1;33m\u001b[0m\u001b[0m\n\u001b[1;32m--> 333\u001b[1;33m             \u001b[1;32mreturn\u001b[0m \u001b[0mfunc\u001b[0m\u001b[1;33m(\u001b[0m\u001b[1;33m*\u001b[0m\u001b[0margs\u001b[0m\u001b[1;33m,\u001b[0m \u001b[1;33m**\u001b[0m\u001b[0mkwargs\u001b[0m\u001b[1;33m)\u001b[0m\u001b[1;33m\u001b[0m\u001b[1;33m\u001b[0m\u001b[0m\n\u001b[0m",
      "\u001b[1;32mc:\\Users\\ndung\\AppData\\Local\\Programs\\Python\\Python312\\Lib\\site-packages\\pandas\\core\\frame.py\u001b[0m in \u001b[0;36m?\u001b[1;34m(self, buf, columns, col_space, header, index, na_rep, formatters, float_format, sparsify, index_names, justify, max_rows, max_cols, show_dimensions, decimal, line_width, min_rows, max_colwidth, encoding)\u001b[0m\n\u001b[0;32m   1379\u001b[0m                 \u001b[0mmax_cols\u001b[0m\u001b[1;33m=\u001b[0m\u001b[0mmax_cols\u001b[0m\u001b[1;33m,\u001b[0m\u001b[1;33m\u001b[0m\u001b[1;33m\u001b[0m\u001b[0m\n\u001b[0;32m   1380\u001b[0m                 \u001b[0mshow_dimensions\u001b[0m\u001b[1;33m=\u001b[0m\u001b[0mshow_dimensions\u001b[0m\u001b[1;33m,\u001b[0m\u001b[1;33m\u001b[0m\u001b[1;33m\u001b[0m\u001b[0m\n\u001b[0;32m   1381\u001b[0m                 \u001b[0mdecimal\u001b[0m\u001b[1;33m=\u001b[0m\u001b[0mdecimal\u001b[0m\u001b[1;33m,\u001b[0m\u001b[1;33m\u001b[0m\u001b[1;33m\u001b[0m\u001b[0m\n\u001b[0;32m   1382\u001b[0m             \u001b[1;33m)\u001b[0m\u001b[1;33m\u001b[0m\u001b[1;33m\u001b[0m\u001b[0m\n\u001b[1;32m-> 1383\u001b[1;33m             return fmt.DataFrameRenderer(formatter).to_string(\n\u001b[0m\u001b[0;32m   1384\u001b[0m                 \u001b[0mbuf\u001b[0m\u001b[1;33m=\u001b[0m\u001b[0mbuf\u001b[0m\u001b[1;33m,\u001b[0m\u001b[1;33m\u001b[0m\u001b[1;33m\u001b[0m\u001b[0m\n\u001b[0;32m   1385\u001b[0m                 \u001b[0mencoding\u001b[0m\u001b[1;33m=\u001b[0m\u001b[0mencoding\u001b[0m\u001b[1;33m,\u001b[0m\u001b[1;33m\u001b[0m\u001b[1;33m\u001b[0m\u001b[0m\n\u001b[0;32m   1386\u001b[0m                 \u001b[0mline_width\u001b[0m\u001b[1;33m=\u001b[0m\u001b[0mline_width\u001b[0m\u001b[1;33m,\u001b[0m\u001b[1;33m\u001b[0m\u001b[1;33m\u001b[0m\u001b[0m\n",
      "\u001b[1;32mc:\\Users\\ndung\\AppData\\Local\\Programs\\Python\\Python312\\Lib\\site-packages\\pandas\\io\\formats\\format.py\u001b[0m in \u001b[0;36m?\u001b[1;34m(self, buf, encoding, line_width)\u001b[0m\n\u001b[0;32m    958\u001b[0m         \"\"\"\n\u001b[0;32m    959\u001b[0m         \u001b[1;32mfrom\u001b[0m \u001b[0mpandas\u001b[0m\u001b[1;33m.\u001b[0m\u001b[0mio\u001b[0m\u001b[1;33m.\u001b[0m\u001b[0mformats\u001b[0m\u001b[1;33m.\u001b[0m\u001b[0mstring\u001b[0m \u001b[1;32mimport\u001b[0m \u001b[0mStringFormatter\u001b[0m\u001b[1;33m\u001b[0m\u001b[1;33m\u001b[0m\u001b[0m\n\u001b[0;32m    960\u001b[0m \u001b[1;33m\u001b[0m\u001b[0m\n\u001b[0;32m    961\u001b[0m         \u001b[0mstring_formatter\u001b[0m \u001b[1;33m=\u001b[0m \u001b[0mStringFormatter\u001b[0m\u001b[1;33m(\u001b[0m\u001b[0mself\u001b[0m\u001b[1;33m.\u001b[0m\u001b[0mfmt\u001b[0m\u001b[1;33m,\u001b[0m \u001b[0mline_width\u001b[0m\u001b[1;33m=\u001b[0m\u001b[0mline_width\u001b[0m\u001b[1;33m)\u001b[0m\u001b[1;33m\u001b[0m\u001b[1;33m\u001b[0m\u001b[0m\n\u001b[1;32m--> 962\u001b[1;33m         \u001b[0mstring\u001b[0m \u001b[1;33m=\u001b[0m \u001b[0mstring_formatter\u001b[0m\u001b[1;33m.\u001b[0m\u001b[0mto_string\u001b[0m\u001b[1;33m(\u001b[0m\u001b[1;33m)\u001b[0m\u001b[1;33m\u001b[0m\u001b[1;33m\u001b[0m\u001b[0m\n\u001b[0m\u001b[0;32m    963\u001b[0m         \u001b[1;32mreturn\u001b[0m \u001b[0msave_to_buffer\u001b[0m\u001b[1;33m(\u001b[0m\u001b[0mstring\u001b[0m\u001b[1;33m,\u001b[0m \u001b[0mbuf\u001b[0m\u001b[1;33m=\u001b[0m\u001b[0mbuf\u001b[0m\u001b[1;33m,\u001b[0m \u001b[0mencoding\u001b[0m\u001b[1;33m=\u001b[0m\u001b[0mencoding\u001b[0m\u001b[1;33m)\u001b[0m\u001b[1;33m\u001b[0m\u001b[1;33m\u001b[0m\u001b[0m\n",
      "\u001b[1;32mc:\\Users\\ndung\\AppData\\Local\\Programs\\Python\\Python312\\Lib\\site-packages\\pandas\\io\\formats\\string.py\u001b[0m in \u001b[0;36m?\u001b[1;34m(self)\u001b[0m\n\u001b[0;32m     28\u001b[0m     \u001b[1;32mdef\u001b[0m \u001b[0mto_string\u001b[0m\u001b[1;33m(\u001b[0m\u001b[0mself\u001b[0m\u001b[1;33m)\u001b[0m \u001b[1;33m->\u001b[0m \u001b[0mstr\u001b[0m\u001b[1;33m:\u001b[0m\u001b[1;33m\u001b[0m\u001b[1;33m\u001b[0m\u001b[0m\n\u001b[1;32m---> 29\u001b[1;33m         \u001b[0mtext\u001b[0m \u001b[1;33m=\u001b[0m \u001b[0mself\u001b[0m\u001b[1;33m.\u001b[0m\u001b[0m_get_string_representation\u001b[0m\u001b[1;33m(\u001b[0m\u001b[1;33m)\u001b[0m\u001b[1;33m\u001b[0m\u001b[1;33m\u001b[0m\u001b[0m\n\u001b[0m\u001b[0;32m     30\u001b[0m         \u001b[1;32mif\u001b[0m \u001b[0mself\u001b[0m\u001b[1;33m.\u001b[0m\u001b[0mfmt\u001b[0m\u001b[1;33m.\u001b[0m\u001b[0mshould_show_dimensions\u001b[0m\u001b[1;33m:\u001b[0m\u001b[1;33m\u001b[0m\u001b[1;33m\u001b[0m\u001b[0m\n\u001b[0;32m     31\u001b[0m             \u001b[0mtext\u001b[0m \u001b[1;33m=\u001b[0m \u001b[1;33mf\"\u001b[0m\u001b[1;33m{\u001b[0m\u001b[0mtext\u001b[0m\u001b[1;33m}\u001b[0m\u001b[1;33m{\u001b[0m\u001b[0mself\u001b[0m\u001b[1;33m.\u001b[0m\u001b[0mfmt\u001b[0m\u001b[1;33m.\u001b[0m\u001b[0mdimensions_info\u001b[0m\u001b[1;33m}\u001b[0m\u001b[1;33m\"\u001b[0m\u001b[1;33m\u001b[0m\u001b[1;33m\u001b[0m\u001b[0m\n\u001b[0;32m     32\u001b[0m         \u001b[1;32mreturn\u001b[0m \u001b[0mtext\u001b[0m\u001b[1;33m\u001b[0m\u001b[1;33m\u001b[0m\u001b[0m\n",
      "\u001b[1;32mc:\\Users\\ndung\\AppData\\Local\\Programs\\Python\\Python312\\Lib\\site-packages\\pandas\\io\\formats\\string.py\u001b[0m in \u001b[0;36m?\u001b[1;34m(self)\u001b[0m\n\u001b[0;32m     40\u001b[0m     \u001b[1;32mdef\u001b[0m \u001b[0m_get_string_representation\u001b[0m\u001b[1;33m(\u001b[0m\u001b[0mself\u001b[0m\u001b[1;33m)\u001b[0m \u001b[1;33m->\u001b[0m \u001b[0mstr\u001b[0m\u001b[1;33m:\u001b[0m\u001b[1;33m\u001b[0m\u001b[1;33m\u001b[0m\u001b[0m\n\u001b[0;32m     41\u001b[0m         \u001b[1;32mif\u001b[0m \u001b[0mself\u001b[0m\u001b[1;33m.\u001b[0m\u001b[0mfmt\u001b[0m\u001b[1;33m.\u001b[0m\u001b[0mframe\u001b[0m\u001b[1;33m.\u001b[0m\u001b[0mempty\u001b[0m\u001b[1;33m:\u001b[0m\u001b[1;33m\u001b[0m\u001b[1;33m\u001b[0m\u001b[0m\n\u001b[0;32m     42\u001b[0m             \u001b[1;32mreturn\u001b[0m \u001b[0mself\u001b[0m\u001b[1;33m.\u001b[0m\u001b[0m_empty_info_line\u001b[0m\u001b[1;33m\u001b[0m\u001b[1;33m\u001b[0m\u001b[0m\n\u001b[0;32m     43\u001b[0m \u001b[1;33m\u001b[0m\u001b[0m\n\u001b[1;32m---> 44\u001b[1;33m         \u001b[0mstrcols\u001b[0m \u001b[1;33m=\u001b[0m \u001b[0mself\u001b[0m\u001b[1;33m.\u001b[0m\u001b[0m_get_strcols\u001b[0m\u001b[1;33m(\u001b[0m\u001b[1;33m)\u001b[0m\u001b[1;33m\u001b[0m\u001b[1;33m\u001b[0m\u001b[0m\n\u001b[0m\u001b[0;32m     45\u001b[0m \u001b[1;33m\u001b[0m\u001b[0m\n\u001b[0;32m     46\u001b[0m         \u001b[1;32mif\u001b[0m \u001b[0mself\u001b[0m\u001b[1;33m.\u001b[0m\u001b[0mline_width\u001b[0m \u001b[1;32mis\u001b[0m \u001b[1;32mNone\u001b[0m\u001b[1;33m:\u001b[0m\u001b[1;33m\u001b[0m\u001b[1;33m\u001b[0m\u001b[0m\n\u001b[0;32m     47\u001b[0m             \u001b[1;31m# no need to wrap around just print the whole frame\u001b[0m\u001b[1;33m\u001b[0m\u001b[1;33m\u001b[0m\u001b[0m\n",
      "\u001b[1;32mc:\\Users\\ndung\\AppData\\Local\\Programs\\Python\\Python312\\Lib\\site-packages\\pandas\\io\\formats\\string.py\u001b[0m in \u001b[0;36m?\u001b[1;34m(self)\u001b[0m\n\u001b[0;32m     34\u001b[0m     \u001b[1;32mdef\u001b[0m \u001b[0m_get_strcols\u001b[0m\u001b[1;33m(\u001b[0m\u001b[0mself\u001b[0m\u001b[1;33m)\u001b[0m \u001b[1;33m->\u001b[0m \u001b[0mlist\u001b[0m\u001b[1;33m[\u001b[0m\u001b[0mlist\u001b[0m\u001b[1;33m[\u001b[0m\u001b[0mstr\u001b[0m\u001b[1;33m]\u001b[0m\u001b[1;33m]\u001b[0m\u001b[1;33m:\u001b[0m\u001b[1;33m\u001b[0m\u001b[1;33m\u001b[0m\u001b[0m\n\u001b[1;32m---> 35\u001b[1;33m         \u001b[0mstrcols\u001b[0m \u001b[1;33m=\u001b[0m \u001b[0mself\u001b[0m\u001b[1;33m.\u001b[0m\u001b[0mfmt\u001b[0m\u001b[1;33m.\u001b[0m\u001b[0mget_strcols\u001b[0m\u001b[1;33m(\u001b[0m\u001b[1;33m)\u001b[0m\u001b[1;33m\u001b[0m\u001b[1;33m\u001b[0m\u001b[0m\n\u001b[0m\u001b[0;32m     36\u001b[0m         \u001b[1;32mif\u001b[0m \u001b[0mself\u001b[0m\u001b[1;33m.\u001b[0m\u001b[0mfmt\u001b[0m\u001b[1;33m.\u001b[0m\u001b[0mis_truncated\u001b[0m\u001b[1;33m:\u001b[0m\u001b[1;33m\u001b[0m\u001b[1;33m\u001b[0m\u001b[0m\n\u001b[0;32m     37\u001b[0m             \u001b[0mstrcols\u001b[0m \u001b[1;33m=\u001b[0m \u001b[0mself\u001b[0m\u001b[1;33m.\u001b[0m\u001b[0m_insert_dot_separators\u001b[0m\u001b[1;33m(\u001b[0m\u001b[0mstrcols\u001b[0m\u001b[1;33m)\u001b[0m\u001b[1;33m\u001b[0m\u001b[1;33m\u001b[0m\u001b[0m\n\u001b[0;32m     38\u001b[0m         \u001b[1;32mreturn\u001b[0m \u001b[0mstrcols\u001b[0m\u001b[1;33m\u001b[0m\u001b[1;33m\u001b[0m\u001b[0m\n",
      "\u001b[1;32mc:\\Users\\ndung\\AppData\\Local\\Programs\\Python\\Python312\\Lib\\site-packages\\pandas\\io\\formats\\format.py\u001b[0m in \u001b[0;36m?\u001b[1;34m(self)\u001b[0m\n\u001b[0;32m    472\u001b[0m     \u001b[1;32mdef\u001b[0m \u001b[0mget_strcols\u001b[0m\u001b[1;33m(\u001b[0m\u001b[0mself\u001b[0m\u001b[1;33m)\u001b[0m \u001b[1;33m->\u001b[0m \u001b[0mlist\u001b[0m\u001b[1;33m[\u001b[0m\u001b[0mlist\u001b[0m\u001b[1;33m[\u001b[0m\u001b[0mstr\u001b[0m\u001b[1;33m]\u001b[0m\u001b[1;33m]\u001b[0m\u001b[1;33m:\u001b[0m\u001b[1;33m\u001b[0m\u001b[1;33m\u001b[0m\u001b[0m\n\u001b[0;32m    473\u001b[0m         \"\"\"\n\u001b[0;32m    474\u001b[0m         \u001b[0mRender\u001b[0m \u001b[0ma\u001b[0m \u001b[0mDataFrame\u001b[0m \u001b[0mto\u001b[0m \u001b[0ma\u001b[0m \u001b[0mlist\u001b[0m \u001b[0mof\u001b[0m \u001b[0mcolumns\u001b[0m \u001b[1;33m(\u001b[0m\u001b[1;32mas\u001b[0m \u001b[0mlists\u001b[0m \u001b[0mof\u001b[0m \u001b[0mstrings\u001b[0m\u001b[1;33m)\u001b[0m\u001b[1;33m.\u001b[0m\u001b[1;33m\u001b[0m\u001b[1;33m\u001b[0m\u001b[0m\n\u001b[0;32m    475\u001b[0m         \"\"\"\n\u001b[1;32m--> 476\u001b[1;33m         \u001b[0mstrcols\u001b[0m \u001b[1;33m=\u001b[0m \u001b[0mself\u001b[0m\u001b[1;33m.\u001b[0m\u001b[0m_get_strcols_without_index\u001b[0m\u001b[1;33m(\u001b[0m\u001b[1;33m)\u001b[0m\u001b[1;33m\u001b[0m\u001b[1;33m\u001b[0m\u001b[0m\n\u001b[0m\u001b[0;32m    477\u001b[0m \u001b[1;33m\u001b[0m\u001b[0m\n\u001b[0;32m    478\u001b[0m         \u001b[1;32mif\u001b[0m \u001b[0mself\u001b[0m\u001b[1;33m.\u001b[0m\u001b[0mindex\u001b[0m\u001b[1;33m:\u001b[0m\u001b[1;33m\u001b[0m\u001b[1;33m\u001b[0m\u001b[0m\n\u001b[0;32m    479\u001b[0m             \u001b[0mstr_index\u001b[0m \u001b[1;33m=\u001b[0m \u001b[0mself\u001b[0m\u001b[1;33m.\u001b[0m\u001b[0m_get_formatted_index\u001b[0m\u001b[1;33m(\u001b[0m\u001b[0mself\u001b[0m\u001b[1;33m.\u001b[0m\u001b[0mtr_frame\u001b[0m\u001b[1;33m)\u001b[0m\u001b[1;33m\u001b[0m\u001b[1;33m\u001b[0m\u001b[0m\n",
      "\u001b[1;32mc:\\Users\\ndung\\AppData\\Local\\Programs\\Python\\Python312\\Lib\\site-packages\\pandas\\io\\formats\\format.py\u001b[0m in \u001b[0;36m?\u001b[1;34m(self)\u001b[0m\n\u001b[0;32m    725\u001b[0m                     \u001b[1;33mf\"\u001b[0m\u001b[1;33mbut got \u001b[0m\u001b[1;33m{\u001b[0m\u001b[0mlen\u001b[0m\u001b[1;33m(\u001b[0m\u001b[0mself\u001b[0m\u001b[1;33m.\u001b[0m\u001b[0mheader\u001b[0m\u001b[1;33m)\u001b[0m\u001b[1;33m}\u001b[0m\u001b[1;33m aliases\u001b[0m\u001b[1;33m\"\u001b[0m\u001b[1;33m\u001b[0m\u001b[1;33m\u001b[0m\u001b[0m\n\u001b[0;32m    726\u001b[0m                 \u001b[1;33m)\u001b[0m\u001b[1;33m\u001b[0m\u001b[1;33m\u001b[0m\u001b[0m\n\u001b[0;32m    727\u001b[0m             \u001b[0mstr_columns\u001b[0m \u001b[1;33m=\u001b[0m \u001b[1;33m[\u001b[0m\u001b[1;33m[\u001b[0m\u001b[0mlabel\u001b[0m\u001b[1;33m]\u001b[0m \u001b[1;32mfor\u001b[0m \u001b[0mlabel\u001b[0m \u001b[1;32min\u001b[0m \u001b[0mself\u001b[0m\u001b[1;33m.\u001b[0m\u001b[0mheader\u001b[0m\u001b[1;33m]\u001b[0m\u001b[1;33m\u001b[0m\u001b[1;33m\u001b[0m\u001b[0m\n\u001b[0;32m    728\u001b[0m         \u001b[1;32melse\u001b[0m\u001b[1;33m:\u001b[0m\u001b[1;33m\u001b[0m\u001b[1;33m\u001b[0m\u001b[0m\n\u001b[1;32m--> 729\u001b[1;33m             \u001b[0mstr_columns\u001b[0m \u001b[1;33m=\u001b[0m \u001b[0mself\u001b[0m\u001b[1;33m.\u001b[0m\u001b[0m_get_formatted_column_labels\u001b[0m\u001b[1;33m(\u001b[0m\u001b[0mself\u001b[0m\u001b[1;33m.\u001b[0m\u001b[0mtr_frame\u001b[0m\u001b[1;33m)\u001b[0m\u001b[1;33m\u001b[0m\u001b[1;33m\u001b[0m\u001b[0m\n\u001b[0m\u001b[0;32m    730\u001b[0m \u001b[1;33m\u001b[0m\u001b[0m\n\u001b[0;32m    731\u001b[0m         \u001b[1;32mif\u001b[0m \u001b[0mself\u001b[0m\u001b[1;33m.\u001b[0m\u001b[0mshow_row_idx_names\u001b[0m\u001b[1;33m:\u001b[0m\u001b[1;33m\u001b[0m\u001b[1;33m\u001b[0m\u001b[0m\n\u001b[0;32m    732\u001b[0m             \u001b[1;32mfor\u001b[0m \u001b[0mx\u001b[0m \u001b[1;32min\u001b[0m \u001b[0mstr_columns\u001b[0m\u001b[1;33m:\u001b[0m\u001b[1;33m\u001b[0m\u001b[1;33m\u001b[0m\u001b[0m\n",
      "\u001b[1;32mc:\\Users\\ndung\\AppData\\Local\\Programs\\Python\\Python312\\Lib\\site-packages\\pandas\\io\\formats\\format.py\u001b[0m in \u001b[0;36m?\u001b[1;34m(self, frame)\u001b[0m\n\u001b[0;32m    804\u001b[0m \u001b[1;33m\u001b[0m\u001b[0m\n\u001b[0;32m    805\u001b[0m             \u001b[0mstr_columns\u001b[0m \u001b[1;33m=\u001b[0m \u001b[1;33m[\u001b[0m\u001b[0mlist\u001b[0m\u001b[1;33m(\u001b[0m\u001b[0mx\u001b[0m\u001b[1;33m)\u001b[0m \u001b[1;32mfor\u001b[0m \u001b[0mx\u001b[0m \u001b[1;32min\u001b[0m \u001b[0mzip\u001b[0m\u001b[1;33m(\u001b[0m\u001b[1;33m*\u001b[0m\u001b[0mstr_columns_tuple\u001b[0m\u001b[1;33m)\u001b[0m\u001b[1;33m]\u001b[0m\u001b[1;33m\u001b[0m\u001b[1;33m\u001b[0m\u001b[0m\n\u001b[0;32m    806\u001b[0m         \u001b[1;32melse\u001b[0m\u001b[1;33m:\u001b[0m\u001b[1;33m\u001b[0m\u001b[1;33m\u001b[0m\u001b[0m\n\u001b[0;32m    807\u001b[0m             \u001b[0mfmt_columns\u001b[0m \u001b[1;33m=\u001b[0m \u001b[0mcolumns\u001b[0m\u001b[1;33m.\u001b[0m\u001b[0m_format_flat\u001b[0m\u001b[1;33m(\u001b[0m\u001b[0minclude_name\u001b[0m\u001b[1;33m=\u001b[0m\u001b[1;32mFalse\u001b[0m\u001b[1;33m)\u001b[0m\u001b[1;33m\u001b[0m\u001b[1;33m\u001b[0m\u001b[0m\n\u001b[1;32m--> 808\u001b[1;33m             \u001b[0mdtypes\u001b[0m \u001b[1;33m=\u001b[0m \u001b[0mself\u001b[0m\u001b[1;33m.\u001b[0m\u001b[0mframe\u001b[0m\u001b[1;33m.\u001b[0m\u001b[0mdtypes\u001b[0m\u001b[1;33m\u001b[0m\u001b[1;33m\u001b[0m\u001b[0m\n\u001b[0m\u001b[0;32m    809\u001b[0m             \u001b[0mneed_leadsp\u001b[0m \u001b[1;33m=\u001b[0m \u001b[0mdict\u001b[0m\u001b[1;33m(\u001b[0m\u001b[0mzip\u001b[0m\u001b[1;33m(\u001b[0m\u001b[0mfmt_columns\u001b[0m\u001b[1;33m,\u001b[0m \u001b[0mmap\u001b[0m\u001b[1;33m(\u001b[0m\u001b[0mis_numeric_dtype\u001b[0m\u001b[1;33m,\u001b[0m \u001b[0mdtypes\u001b[0m\u001b[1;33m)\u001b[0m\u001b[1;33m)\u001b[0m\u001b[1;33m)\u001b[0m\u001b[1;33m\u001b[0m\u001b[1;33m\u001b[0m\u001b[0m\n\u001b[0;32m    810\u001b[0m             str_columns = [\n\u001b[0;32m    811\u001b[0m                 \u001b[1;33m[\u001b[0m\u001b[1;34m\" \"\u001b[0m \u001b[1;33m+\u001b[0m \u001b[0mx\u001b[0m \u001b[1;32mif\u001b[0m \u001b[1;32mnot\u001b[0m \u001b[0mself\u001b[0m\u001b[1;33m.\u001b[0m\u001b[0m_get_formatter\u001b[0m\u001b[1;33m(\u001b[0m\u001b[0mi\u001b[0m\u001b[1;33m)\u001b[0m \u001b[1;32mand\u001b[0m \u001b[0mneed_leadsp\u001b[0m\u001b[1;33m[\u001b[0m\u001b[0mx\u001b[0m\u001b[1;33m]\u001b[0m \u001b[1;32melse\u001b[0m \u001b[0mx\u001b[0m\u001b[1;33m]\u001b[0m\u001b[1;33m\u001b[0m\u001b[1;33m\u001b[0m\u001b[0m\n",
      "\u001b[1;32mc:\\Users\\ndung\\AppData\\Local\\Programs\\Python\\Python312\\Lib\\site-packages\\pandas\\core\\generic.py\u001b[0m in \u001b[0;36m?\u001b[1;34m(self)\u001b[0m\n\u001b[0;32m   6454\u001b[0m         \u001b[0mstring\u001b[0m              \u001b[0mobject\u001b[0m\u001b[1;33m\u001b[0m\u001b[1;33m\u001b[0m\u001b[0m\n\u001b[0;32m   6455\u001b[0m         \u001b[0mdtype\u001b[0m\u001b[1;33m:\u001b[0m \u001b[0mobject\u001b[0m\u001b[1;33m\u001b[0m\u001b[1;33m\u001b[0m\u001b[0m\n\u001b[0;32m   6456\u001b[0m         \"\"\"\n\u001b[0;32m   6457\u001b[0m         \u001b[0mdata\u001b[0m \u001b[1;33m=\u001b[0m \u001b[0mself\u001b[0m\u001b[1;33m.\u001b[0m\u001b[0m_mgr\u001b[0m\u001b[1;33m.\u001b[0m\u001b[0mget_dtypes\u001b[0m\u001b[1;33m(\u001b[0m\u001b[1;33m)\u001b[0m\u001b[1;33m\u001b[0m\u001b[1;33m\u001b[0m\u001b[0m\n\u001b[1;32m-> 6458\u001b[1;33m         \u001b[1;32mreturn\u001b[0m \u001b[0mself\u001b[0m\u001b[1;33m.\u001b[0m\u001b[0m_constructor_sliced\u001b[0m\u001b[1;33m(\u001b[0m\u001b[0mdata\u001b[0m\u001b[1;33m,\u001b[0m \u001b[0mindex\u001b[0m\u001b[1;33m=\u001b[0m\u001b[0mself\u001b[0m\u001b[1;33m.\u001b[0m\u001b[0m_info_axis\u001b[0m\u001b[1;33m,\u001b[0m \u001b[0mdtype\u001b[0m\u001b[1;33m=\u001b[0m\u001b[0mnp\u001b[0m\u001b[1;33m.\u001b[0m\u001b[0mobject_\u001b[0m\u001b[1;33m)\u001b[0m\u001b[1;33m\u001b[0m\u001b[1;33m\u001b[0m\u001b[0m\n\u001b[0m",
      "\u001b[1;32mc:\\Users\\ndung\\AppData\\Local\\Programs\\Python\\Python312\\Lib\\site-packages\\pandas\\core\\series.py\u001b[0m in \u001b[0;36m?\u001b[1;34m(self, data, index, dtype, name, copy, fastpath)\u001b[0m\n\u001b[0;32m    589\u001b[0m             \u001b[1;32melif\u001b[0m \u001b[0mmanager\u001b[0m \u001b[1;33m==\u001b[0m \u001b[1;34m\"array\"\u001b[0m\u001b[1;33m:\u001b[0m\u001b[1;33m\u001b[0m\u001b[1;33m\u001b[0m\u001b[0m\n\u001b[0;32m    590\u001b[0m                 \u001b[0mdata\u001b[0m \u001b[1;33m=\u001b[0m \u001b[0mSingleArrayManager\u001b[0m\u001b[1;33m.\u001b[0m\u001b[0mfrom_array\u001b[0m\u001b[1;33m(\u001b[0m\u001b[0mdata\u001b[0m\u001b[1;33m,\u001b[0m \u001b[0mindex\u001b[0m\u001b[1;33m)\u001b[0m\u001b[1;33m\u001b[0m\u001b[1;33m\u001b[0m\u001b[0m\n\u001b[0;32m    591\u001b[0m \u001b[1;33m\u001b[0m\u001b[0m\n\u001b[0;32m    592\u001b[0m         \u001b[0mNDFrame\u001b[0m\u001b[1;33m.\u001b[0m\u001b[0m__init__\u001b[0m\u001b[1;33m(\u001b[0m\u001b[0mself\u001b[0m\u001b[1;33m,\u001b[0m \u001b[0mdata\u001b[0m\u001b[1;33m)\u001b[0m\u001b[1;33m\u001b[0m\u001b[1;33m\u001b[0m\u001b[0m\n\u001b[1;32m--> 593\u001b[1;33m         \u001b[0mself\u001b[0m\u001b[1;33m.\u001b[0m\u001b[0mname\u001b[0m \u001b[1;33m=\u001b[0m \u001b[0mname\u001b[0m\u001b[1;33m\u001b[0m\u001b[1;33m\u001b[0m\u001b[0m\n\u001b[0m\u001b[0;32m    594\u001b[0m         \u001b[0mself\u001b[0m\u001b[1;33m.\u001b[0m\u001b[0m_set_axis\u001b[0m\u001b[1;33m(\u001b[0m\u001b[1;36m0\u001b[0m\u001b[1;33m,\u001b[0m \u001b[0mindex\u001b[0m\u001b[1;33m)\u001b[0m\u001b[1;33m\u001b[0m\u001b[1;33m\u001b[0m\u001b[0m\n\u001b[0;32m    595\u001b[0m \u001b[1;33m\u001b[0m\u001b[0m\n\u001b[0;32m    596\u001b[0m         \u001b[1;32mif\u001b[0m \u001b[0moriginal_dtype\u001b[0m \u001b[1;32mis\u001b[0m \u001b[1;32mNone\u001b[0m \u001b[1;32mand\u001b[0m \u001b[0mis_pandas_object\u001b[0m \u001b[1;32mand\u001b[0m \u001b[0mdata_dtype\u001b[0m \u001b[1;33m==\u001b[0m \u001b[0mnp\u001b[0m\u001b[1;33m.\u001b[0m\u001b[0mobject_\u001b[0m\u001b[1;33m:\u001b[0m\u001b[1;33m\u001b[0m\u001b[1;33m\u001b[0m\u001b[0m\n",
      "\u001b[1;32mc:\\Users\\ndung\\AppData\\Local\\Programs\\Python\\Python312\\Lib\\site-packages\\pandas\\core\\generic.py\u001b[0m in \u001b[0;36m?\u001b[1;34m(self, name, value)\u001b[0m\n\u001b[0;32m   6307\u001b[0m \u001b[1;33m\u001b[0m\u001b[0m\n\u001b[0;32m   6308\u001b[0m         \u001b[1;32mtry\u001b[0m\u001b[1;33m:\u001b[0m\u001b[1;33m\u001b[0m\u001b[1;33m\u001b[0m\u001b[0m\n\u001b[0;32m   6309\u001b[0m             \u001b[0mobject\u001b[0m\u001b[1;33m.\u001b[0m\u001b[0m__getattribute__\u001b[0m\u001b[1;33m(\u001b[0m\u001b[0mself\u001b[0m\u001b[1;33m,\u001b[0m \u001b[0mname\u001b[0m\u001b[1;33m)\u001b[0m\u001b[1;33m\u001b[0m\u001b[1;33m\u001b[0m\u001b[0m\n\u001b[0;32m   6310\u001b[0m             \u001b[1;32mreturn\u001b[0m \u001b[0mobject\u001b[0m\u001b[1;33m.\u001b[0m\u001b[0m__setattr__\u001b[0m\u001b[1;33m(\u001b[0m\u001b[0mself\u001b[0m\u001b[1;33m,\u001b[0m \u001b[0mname\u001b[0m\u001b[1;33m,\u001b[0m \u001b[0mvalue\u001b[0m\u001b[1;33m)\u001b[0m\u001b[1;33m\u001b[0m\u001b[1;33m\u001b[0m\u001b[0m\n\u001b[1;32m-> 6311\u001b[1;33m         \u001b[1;32mexcept\u001b[0m \u001b[0mAttributeError\u001b[0m\u001b[1;33m:\u001b[0m\u001b[1;33m\u001b[0m\u001b[1;33m\u001b[0m\u001b[0m\n\u001b[0m\u001b[0;32m   6312\u001b[0m             \u001b[1;32mpass\u001b[0m\u001b[1;33m\u001b[0m\u001b[1;33m\u001b[0m\u001b[0m\n\u001b[0;32m   6313\u001b[0m \u001b[1;33m\u001b[0m\u001b[0m\n\u001b[0;32m   6314\u001b[0m         \u001b[1;31m# if this fails, go on to more involved attribute setting\u001b[0m\u001b[1;33m\u001b[0m\u001b[1;33m\u001b[0m\u001b[0m\n",
      "\u001b[1;32mc:\\Users\\ndung\\AppData\\Local\\Programs\\Python\\Python312\\Lib\\site-packages\\pandas\\core\\series.py\u001b[0m in \u001b[0;36m?\u001b[1;34m(self)\u001b[0m\n\u001b[0;32m    774\u001b[0m         \u001b[1;36m2\u001b[0m            \u001b[1;36m5\u001b[0m             \u001b[1;36m6\u001b[0m\u001b[1;33m\u001b[0m\u001b[1;33m\u001b[0m\u001b[0m\n\u001b[0;32m    775\u001b[0m         \u001b[1;33m>>\u001b[0m\u001b[1;33m>\u001b[0m \u001b[0mdf\u001b[0m\u001b[1;33m[\u001b[0m\u001b[1;34m\"Even Numbers\"\u001b[0m\u001b[1;33m]\u001b[0m\u001b[1;33m.\u001b[0m\u001b[0mname\u001b[0m\u001b[1;33m\u001b[0m\u001b[1;33m\u001b[0m\u001b[0m\n\u001b[0;32m    776\u001b[0m         \u001b[1;34m'Even Numbers'\u001b[0m\u001b[1;33m\u001b[0m\u001b[1;33m\u001b[0m\u001b[0m\n\u001b[0;32m    777\u001b[0m         \"\"\"\n\u001b[1;32m--> 778\u001b[1;33m         \u001b[1;32mreturn\u001b[0m \u001b[0mself\u001b[0m\u001b[1;33m.\u001b[0m\u001b[0m_name\u001b[0m\u001b[1;33m\u001b[0m\u001b[1;33m\u001b[0m\u001b[0m\n\u001b[0m",
      "\u001b[1;32mc:\\Users\\ndung\\AppData\\Local\\Programs\\Python\\Python312\\Lib\\site-packages\\pandas\\core\\generic.py\u001b[0m in \u001b[0;36m?\u001b[1;34m(self, name)\u001b[0m\n\u001b[1;32m-> 6281\u001b[1;33m     \u001b[1;33m@\u001b[0m\u001b[0mfinal\u001b[0m\u001b[1;33m\u001b[0m\u001b[1;33m\u001b[0m\u001b[0m\n\u001b[0m\u001b[0;32m   6282\u001b[0m     \u001b[1;32mdef\u001b[0m \u001b[0m__getattr__\u001b[0m\u001b[1;33m(\u001b[0m\u001b[0mself\u001b[0m\u001b[1;33m,\u001b[0m \u001b[0mname\u001b[0m\u001b[1;33m:\u001b[0m \u001b[0mstr\u001b[0m\u001b[1;33m)\u001b[0m\u001b[1;33m:\u001b[0m\u001b[1;33m\u001b[0m\u001b[1;33m\u001b[0m\u001b[0m\n\u001b[0;32m   6283\u001b[0m         \"\"\"\n\u001b[0;32m   6284\u001b[0m         \u001b[0mAfter\u001b[0m \u001b[0mregular\u001b[0m \u001b[0mattribute\u001b[0m \u001b[0maccess\u001b[0m\u001b[1;33m,\u001b[0m \u001b[1;32mtry\u001b[0m \u001b[0mlooking\u001b[0m \u001b[0mup\u001b[0m \u001b[0mthe\u001b[0m \u001b[0mname\u001b[0m\u001b[1;33m\u001b[0m\u001b[1;33m\u001b[0m\u001b[0m\n",
      "\u001b[1;31mKeyboardInterrupt\u001b[0m: "
     ]
    }
   ],
   "source": [
    "# Display the merged dataset\n",
    "print(\"Shape of merged dataset:\", merged_data.shape)\n",
    "# Display the first few rows of the merged dataset in table format\n",
    "merged_data.head()"
   ]
  },
  {
   "cell_type": "code",
   "execution_count": null,
   "metadata": {},
   "outputs": [
    {
     "name": "stdout",
     "output_type": "stream",
     "text": [
      "Index(['id', 'position', 'name_x', 'score', 'ratings', 'category_x',\n",
      "       'price_range', 'full_address', 'zip_code', 'lat', 'lng',\n",
      "       'restaurant_id', 'category_y', 'name_y', 'description', 'price'],\n",
      "      dtype='object')\n"
     ]
    }
   ],
   "source": [
    "print(merged_data.columns)"
   ]
  },
  {
   "cell_type": "markdown",
   "metadata": {},
   "source": [
    "The columns listed below are being dropped during the data cleaning process for the following reasons:\n",
    "\n",
    "- `lat` and `lng`: These columns represent latitude and longitude coordinates, which are not relevant for the current analysis. However, for our current analysis, these coordinates are redundant as we have already extracted state and region information from the address column.\n",
    "- Since we have the full address and zip code, which provide sufficient location details for our analysis, keeping the latitude and longitude coordinates would be unnecessary.\n",
    "\n",
    "- `restaurant_id`: This column appears to be a duplicate of the `id` column, which likely serves as the unique identifier for each restaurant. Therefore, keeping both columns is unnecessary.\n",
    "\n",
    "- `description`: This column contains descriptions of food items from the menu dataset. Since the focus of the analysis is on restaurant characteristics and profitability, individual food item descriptions are not needed.\n",
    "\n",
    "- `name_y`: This column is likely a duplicate of the `name` column from one of the datasets. Keeping duplicate columns can lead to confusion and unnecessary redundancy in the data.\n",
    "\n",
    "- `category_y`: Similar to `name_y`, this column is likely a duplicate of the `category` column from one of the datasets. Removing duplicates helps maintain data consistency and clarity.\n",
    "\n",
    "- `price_range`: While the price range of items may be informative, the analysis might focus more on mean prices or specific item prices rather than general price ranges."
   ]
  },
  {
   "cell_type": "code",
   "execution_count": null,
   "metadata": {},
   "outputs": [],
   "source": [
    "# Dropping the columns that are not relevant to the analysis\n",
    "cols_to_drop=['lat', 'lng', 'restaurant_id', 'description', 'name_y', 'category_y', 'price_range']\n",
    "merged_data = merged_data.drop(cols_to_drop, axis=1)"
   ]
  },
  {
   "cell_type": "markdown",
   "metadata": {},
   "source": [
    "#### *Removing Unwanted Characters*\n",
    "\n",
    ">> In this step, we aim to clean the dataset by removing unnecessary characters from specific columns. For instance, we remove the 'USD' currency symbol from the price column to ensure uniform representation and facilitate numerical analysis. By converting the prices to float type, we prepare the data for aggregation and computation. After calculating the mean prices for each restaurant, we merge the results back into the dataframe. Finally, we drop the redundant column, ensuring a cleaner and more standardized dataset for analysis."
   ]
  },
  {
   "cell_type": "code",
   "execution_count": null,
   "metadata": {},
   "outputs": [],
   "source": [
    "# Removing the 'USD' from the price of item column\n",
    "merged_data['price'] = merged_data['price'].str.strip(' USD')"
   ]
  },
  {
   "cell_type": "code",
   "execution_count": null,
   "metadata": {},
   "outputs": [],
   "source": [
    "# Converting the prices into a float type\n",
    "merged_data['price'] = merged_data['price'].astype(float)\n",
    "\n",
    "# Grouping by restaurant id to find the mean prices for each restaurant\n",
    "mean_prices = merged_data.groupby('id')['price'].mean().reset_index()\n",
    "mean_prices['price'] = mean_prices['price'].round(2)\n",
    "\n",
    "# Merging mean prices back into dataframe\n",
    "merged_data = pd.merge(merged_data, mean_prices, on ='id', suffixes = ('','_mean'))\n",
    "\n",
    "# Renaming the price of item column to mean price per item\n",
    "merged_data.rename(columns = {'mean_price':'price'}, inplace = True)\n",
    "\n",
    "# Dropping the redundant price_of_item column\n",
    "merged_data.drop('price', axis = 1, inplace = True)"
   ]
  },
  {
   "cell_type": "markdown",
   "metadata": {},
   "source": [
    "#### *Extracting City and State from Full Address*\n",
    ">> We have extracted the city and state information from the \"full_address\" column in our DataFrame. Using a regular expression pattern, we located the city and state within the address string and created a new column called \"city_state\" to store this combined information. This allows us to isolate and analyze the geographical details of each location more effectively."
   ]
  },
  {
   "cell_type": "code",
   "execution_count": null,
   "metadata": {},
   "outputs": [],
   "source": [
    "# Creating a dictionary with all the states and their unique regions in the US\n",
    "state_to_region = {\n",
    "    'PA' : 'northeast_region',\n",
    "    'MD' : 'northeast_region',\n",
    "    'DE' : 'northeast_region',\n",
    "    'NJ' : 'northeast_region',\n",
    "    'NY' : 'northeast_region',\n",
    "    'CT' : 'northeast_region',\n",
    "    'RI' : 'northeast_region',\n",
    "    'MA' : 'northeast_region',\n",
    "    'NH' : 'northeast_region',\n",
    "    'VT' : 'northeast_region',\n",
    "    'ME' : 'northeast_region',\n",
    "    'FL' : 'southeast_region',\n",
    "    'GA' : 'southeast_region',\n",
    "    'AL' : 'southeast_region',\n",
    "    'MS' : 'southeast_region',\n",
    "    'LA' : 'southeast_region',\n",
    "    'AR' : 'southeast_region',\n",
    "    'TN' : 'southeast_region',\n",
    "    'KY' : 'southeast_region',\n",
    "    'WV' : 'southeast_region',\n",
    "    'VA' : 'southeast_region',\n",
    "    'NC' : 'southeast_region',\n",
    "    'SC' : 'southeast_region',\n",
    "    'TX' : 'southwest_region',\n",
    "    'OK' : 'southwest_region',\n",
    "    'NM' : 'southwest_region',\n",
    "    'AZ' : 'southwest_region',\n",
    "    'AK' : 'west_region',\n",
    "    'HI' : 'west_region',\n",
    "    'CA' : 'west_region',\n",
    "    'NV' : 'west_region',\n",
    "    'UT' : 'west_region',\n",
    "    'CO' : 'west_region',\n",
    "    'WY' : 'west_region',\n",
    "    'MT' : 'west_region',\n",
    "    'ID' : 'west_region',\n",
    "    'OR' : 'west_region',\n",
    "    'WA' : 'west_region',\n",
    "    'ND' : 'midwest_region',\n",
    "    'MN' : 'midwest_region',\n",
    "    'WI' : 'midwest_region',\n",
    "    'MI' : 'midwest_region',\n",
    "    'OH' : 'midwest_region',\n",
    "    'IN' : 'midwest_region',\n",
    "    'IL' : 'midwest_region',\n",
    "    'IA' : 'midwest_region',\n",
    "    'SD' : 'midwest_region',\n",
    "    'NE' : 'midwest_region',\n",
    "    'KS' : 'midwest_region',\n",
    "    'MO' : 'midwest_region',\n",
    "}"
   ]
  },
  {
   "cell_type": "markdown",
   "metadata": {},
   "source": [
    "*<--Resources used:*\n",
    "\n",
    "ChatGPT was employed to assist in the extraction of state abbreviations from the address column and mapping them to their respective regions.\n",
    "\n",
    "-->"
   ]
  },
  {
   "cell_type": "code",
   "execution_count": null,
   "metadata": {},
   "outputs": [],
   "source": [
    "# Changing the full_address column to a string type\n",
    "merged_data['full_address'] = merged_data['full_address'].astype(str)"
   ]
  },
  {
   "cell_type": "code",
   "execution_count": null,
   "metadata": {},
   "outputs": [],
   "source": [
    "import re\n",
    "\n",
    "def extract_state(address):\n",
    "    # Regular expression pattern to extract state abbreviations\n",
    "    state_pattern = r'\\b([A-Z]{2})\\b'\n",
    "    match = re.search(state_pattern, address)  \n",
    "    if match:\n",
    "        state = match.group(1)\n",
    "        if state in state_to_region:\n",
    "            return state\n",
    "    return None\n",
    "\n",
    "# Function to map states to regions\n",
    "def map_state_to_region(state):\n",
    "    return state_to_region.get(state, 'other_region')  "
   ]
  },
  {
   "cell_type": "markdown",
   "metadata": {},
   "source": [
    "### *How Many States Are in The Dataset?*"
   ]
  },
  {
   "cell_type": "code",
   "execution_count": null,
   "metadata": {},
   "outputs": [
    {
     "name": "stdout",
     "output_type": "stream",
     "text": [
      "['AL' None 'NE' 'WY' 'WI' 'MN' 'DE' 'IN' 'CT' 'IL' 'WV' 'WA' 'OH' 'OR'\n",
      " 'MT' 'ID' 'VA' 'MD' 'TN' 'VT' 'UT' 'TX' 'LA' 'AR' 'HI' 'MO']\n"
     ]
    }
   ],
   "source": [
    "\n",
    "# Apply the extract_state function to create a 'state' and 'region' column\n",
    "merged_data['state'] = merged_data['full_address'].apply(extract_state)\n",
    "\n",
    "merged_data['region'] = merged_data['state'].apply(map_state_to_region)\n",
    "\n",
    "# Display the unique values in the state column\n",
    "print(merged_data['state'].unique())"
   ]
  },
  {
   "cell_type": "markdown",
   "metadata": {},
   "source": [
    "There are the 25 states in our dataset"
   ]
  },
  {
   "cell_type": "code",
   "execution_count": null,
   "metadata": {},
   "outputs": [],
   "source": [
    "# Obtaining only the resturants whose states are not Classified under None\n",
    "merged_data = merged_data[merged_data['state'].notna()]"
   ]
  },
  {
   "cell_type": "markdown",
   "metadata": {},
   "source": [
    "### *What Is The Number Of Dishes Offered By Each Restaurant?*"
   ]
  },
  {
   "cell_type": "code",
   "execution_count": null,
   "metadata": {},
   "outputs": [
    {
     "data": {
      "text/html": [
       "<div>\n",
       "<style scoped>\n",
       "    .dataframe tbody tr th:only-of-type {\n",
       "        vertical-align: middle;\n",
       "    }\n",
       "\n",
       "    .dataframe tbody tr th {\n",
       "        vertical-align: top;\n",
       "    }\n",
       "\n",
       "    .dataframe thead th {\n",
       "        text-align: right;\n",
       "    }\n",
       "</style>\n",
       "<table border=\"1\" class=\"dataframe\">\n",
       "  <thead>\n",
       "    <tr style=\"text-align: right;\">\n",
       "      <th></th>\n",
       "      <th>id</th>\n",
       "      <th>number_of_dishes</th>\n",
       "    </tr>\n",
       "  </thead>\n",
       "  <tbody>\n",
       "    <tr>\n",
       "      <th>0</th>\n",
       "      <td>1</td>\n",
       "      <td>72</td>\n",
       "    </tr>\n",
       "    <tr>\n",
       "      <th>1</th>\n",
       "      <td>2</td>\n",
       "      <td>46</td>\n",
       "    </tr>\n",
       "    <tr>\n",
       "      <th>2</th>\n",
       "      <td>3</td>\n",
       "      <td>23</td>\n",
       "    </tr>\n",
       "    <tr>\n",
       "      <th>3</th>\n",
       "      <td>4</td>\n",
       "      <td>36</td>\n",
       "    </tr>\n",
       "    <tr>\n",
       "      <th>4</th>\n",
       "      <td>5</td>\n",
       "      <td>27</td>\n",
       "    </tr>\n",
       "    <tr>\n",
       "      <th>...</th>\n",
       "      <td>...</td>\n",
       "      <td>...</td>\n",
       "    </tr>\n",
       "    <tr>\n",
       "      <th>60922</th>\n",
       "      <td>63465</td>\n",
       "      <td>122</td>\n",
       "    </tr>\n",
       "    <tr>\n",
       "      <th>60923</th>\n",
       "      <td>63466</td>\n",
       "      <td>4</td>\n",
       "    </tr>\n",
       "    <tr>\n",
       "      <th>60924</th>\n",
       "      <td>63467</td>\n",
       "      <td>4</td>\n",
       "    </tr>\n",
       "    <tr>\n",
       "      <th>60925</th>\n",
       "      <td>63468</td>\n",
       "      <td>34</td>\n",
       "    </tr>\n",
       "    <tr>\n",
       "      <th>60926</th>\n",
       "      <td>63469</td>\n",
       "      <td>4</td>\n",
       "    </tr>\n",
       "  </tbody>\n",
       "</table>\n",
       "<p>60927 rows × 2 columns</p>\n",
       "</div>"
      ],
      "text/plain": [
       "          id  number_of_dishes\n",
       "0          1                72\n",
       "1          2                46\n",
       "2          3                23\n",
       "3          4                36\n",
       "4          5                27\n",
       "...      ...               ...\n",
       "60922  63465               122\n",
       "60923  63466                 4\n",
       "60924  63467                 4\n",
       "60925  63468                34\n",
       "60926  63469                 4\n",
       "\n",
       "[60927 rows x 2 columns]"
      ]
     },
     "execution_count": 29,
     "metadata": {},
     "output_type": "execute_result"
    }
   ],
   "source": [
    "# Count the number of dishes serve by the restaurant using groupby for restaurant ID\n",
    "menu = menus.groupby('restaurant_id')['name'].count()\n",
    "number_of_dishes_per_restaurant = pd.DataFrame(menu).reset_index()\n",
    "# Renaming the columns to id and number of dishes\n",
    "number_of_dishes_per_restaurant.columns = ['id', 'number_of_dishes']\n",
    "number_of_dishes_per_restaurant"
   ]
  },
  {
   "cell_type": "code",
   "execution_count": null,
   "metadata": {},
   "outputs": [
    {
     "data": {
      "text/html": [
       "<div>\n",
       "<style scoped>\n",
       "    .dataframe tbody tr th:only-of-type {\n",
       "        vertical-align: middle;\n",
       "    }\n",
       "\n",
       "    .dataframe tbody tr th {\n",
       "        vertical-align: top;\n",
       "    }\n",
       "\n",
       "    .dataframe thead th {\n",
       "        text-align: right;\n",
       "    }\n",
       "</style>\n",
       "<table border=\"1\" class=\"dataframe\">\n",
       "  <thead>\n",
       "    <tr style=\"text-align: right;\">\n",
       "      <th></th>\n",
       "      <th>id</th>\n",
       "      <th>position</th>\n",
       "      <th>name_x</th>\n",
       "      <th>score</th>\n",
       "      <th>ratings</th>\n",
       "      <th>category_x</th>\n",
       "      <th>full_address</th>\n",
       "      <th>zip_code</th>\n",
       "      <th>price_mean</th>\n",
       "      <th>state</th>\n",
       "      <th>region</th>\n",
       "      <th>number_of_dishes</th>\n",
       "    </tr>\n",
       "  </thead>\n",
       "  <tbody>\n",
       "    <tr>\n",
       "      <th>0</th>\n",
       "      <td>1.0</td>\n",
       "      <td>19.0</td>\n",
       "      <td>PJ Fresh (224 Daniel Payne Drive)</td>\n",
       "      <td>4.6</td>\n",
       "      <td>52.0</td>\n",
       "      <td>Burgers, American, Sandwiches</td>\n",
       "      <td>224 Daniel Payne Drive, Birmingham, AL, 35207</td>\n",
       "      <td>35207</td>\n",
       "      <td>5.06</td>\n",
       "      <td>AL</td>\n",
       "      <td>southeast_region</td>\n",
       "      <td>72.0</td>\n",
       "    </tr>\n",
       "    <tr>\n",
       "      <th>72</th>\n",
       "      <td>3.0</td>\n",
       "      <td>6.0</td>\n",
       "      <td>Philly Fresh Cheesesteaks (541-B Graymont Ave)</td>\n",
       "      <td>4.6</td>\n",
       "      <td>52.0</td>\n",
       "      <td>American, Cheesesteak, Sandwiches, Alcohol</td>\n",
       "      <td>541-B Graymont Ave, Birmingham, AL, 35204</td>\n",
       "      <td>35204</td>\n",
       "      <td>12.45</td>\n",
       "      <td>AL</td>\n",
       "      <td>southeast_region</td>\n",
       "      <td>23.0</td>\n",
       "    </tr>\n",
       "    <tr>\n",
       "      <th>95</th>\n",
       "      <td>4.0</td>\n",
       "      <td>17.0</td>\n",
       "      <td>Papa Murphy's (1580 Montgomery Highway)</td>\n",
       "      <td>4.6</td>\n",
       "      <td>52.0</td>\n",
       "      <td>Pizza</td>\n",
       "      <td>1580 Montgomery Highway, Hoover, AL, 35226</td>\n",
       "      <td>35226</td>\n",
       "      <td>10.76</td>\n",
       "      <td>AL</td>\n",
       "      <td>southeast_region</td>\n",
       "      <td>36.0</td>\n",
       "    </tr>\n",
       "    <tr>\n",
       "      <th>131</th>\n",
       "      <td>6.0</td>\n",
       "      <td>75.0</td>\n",
       "      <td>Ocean Restaurant</td>\n",
       "      <td>4.6</td>\n",
       "      <td>52.0</td>\n",
       "      <td>Seafood, Sushi, Steak</td>\n",
       "      <td>1218 20th Street South, Birmingham, AL, 35205</td>\n",
       "      <td>35205</td>\n",
       "      <td>29.19</td>\n",
       "      <td>AL</td>\n",
       "      <td>southeast_region</td>\n",
       "      <td>31.0</td>\n",
       "    </tr>\n",
       "    <tr>\n",
       "      <th>162</th>\n",
       "      <td>7.0</td>\n",
       "      <td>27.0</td>\n",
       "      <td>Jinsei Sushi</td>\n",
       "      <td>4.7</td>\n",
       "      <td>63.0</td>\n",
       "      <td>Sushi, Asian, Japanese</td>\n",
       "      <td>1830 29th Ave S, Birmingham, AL, 35209</td>\n",
       "      <td>35209</td>\n",
       "      <td>12.50</td>\n",
       "      <td>AL</td>\n",
       "      <td>southeast_region</td>\n",
       "      <td>62.0</td>\n",
       "    </tr>\n",
       "  </tbody>\n",
       "</table>\n",
       "</div>"
      ],
      "text/plain": [
       "      id  position                                          name_x  score  \\\n",
       "0    1.0      19.0               PJ Fresh (224 Daniel Payne Drive)    4.6   \n",
       "72   3.0       6.0  Philly Fresh Cheesesteaks (541-B Graymont Ave)    4.6   \n",
       "95   4.0      17.0         Papa Murphy's (1580 Montgomery Highway)    4.6   \n",
       "131  6.0      75.0                                Ocean Restaurant    4.6   \n",
       "162  7.0      27.0                                    Jinsei Sushi    4.7   \n",
       "\n",
       "     ratings                                  category_x  \\\n",
       "0       52.0               Burgers, American, Sandwiches   \n",
       "72      52.0  American, Cheesesteak, Sandwiches, Alcohol   \n",
       "95      52.0                                       Pizza   \n",
       "131     52.0                       Seafood, Sushi, Steak   \n",
       "162     63.0                      Sushi, Asian, Japanese   \n",
       "\n",
       "                                      full_address zip_code  price_mean state  \\\n",
       "0    224 Daniel Payne Drive, Birmingham, AL, 35207    35207        5.06    AL   \n",
       "72       541-B Graymont Ave, Birmingham, AL, 35204    35204       12.45    AL   \n",
       "95      1580 Montgomery Highway, Hoover, AL, 35226    35226       10.76    AL   \n",
       "131  1218 20th Street South, Birmingham, AL, 35205    35205       29.19    AL   \n",
       "162         1830 29th Ave S, Birmingham, AL, 35209    35209       12.50    AL   \n",
       "\n",
       "               region  number_of_dishes  \n",
       "0    southeast_region              72.0  \n",
       "72   southeast_region              23.0  \n",
       "95   southeast_region              36.0  \n",
       "131  southeast_region              31.0  \n",
       "162  southeast_region              62.0  "
      ]
     },
     "execution_count": 30,
     "metadata": {},
     "output_type": "execute_result"
    }
   ],
   "source": [
    "# Merge the number_of_dishes_per_restaurant DataFrame with the main dataset merged_data\n",
    "merged_data = merged_data.merge(number_of_dishes_per_restaurant, on='id', how='left')\n",
    "\n",
    "# Drop duplicates after merging\n",
    "merged_data.drop_duplicates(inplace=True)\n",
    "\n",
    "# Display the first few rows of the merged dataset\n",
    "merged_data.head()"
   ]
  },
  {
   "cell_type": "markdown",
   "metadata": {},
   "source": [
    "### *How Many Restaurants In Each State?*"
   ]
  },
  {
   "cell_type": "code",
   "execution_count": null,
   "metadata": {},
   "outputs": [
    {
     "data": {
      "text/html": [
       "<div>\n",
       "<style scoped>\n",
       "    .dataframe tbody tr th:only-of-type {\n",
       "        vertical-align: middle;\n",
       "    }\n",
       "\n",
       "    .dataframe tbody tr th {\n",
       "        vertical-align: top;\n",
       "    }\n",
       "\n",
       "    .dataframe thead th {\n",
       "        text-align: right;\n",
       "    }\n",
       "</style>\n",
       "<table border=\"1\" class=\"dataframe\">\n",
       "  <thead>\n",
       "    <tr style=\"text-align: right;\">\n",
       "      <th></th>\n",
       "      <th>number_of_restaurants</th>\n",
       "    </tr>\n",
       "    <tr>\n",
       "      <th>state</th>\n",
       "      <th></th>\n",
       "    </tr>\n",
       "  </thead>\n",
       "  <tbody>\n",
       "    <tr>\n",
       "      <th>TX</th>\n",
       "      <td>23768</td>\n",
       "    </tr>\n",
       "    <tr>\n",
       "      <th>VA</th>\n",
       "      <td>7671</td>\n",
       "    </tr>\n",
       "    <tr>\n",
       "      <th>WA</th>\n",
       "      <td>5335</td>\n",
       "    </tr>\n",
       "    <tr>\n",
       "      <th>WI</th>\n",
       "      <td>3837</td>\n",
       "    </tr>\n",
       "    <tr>\n",
       "      <th>UT</th>\n",
       "      <td>2528</td>\n",
       "    </tr>\n",
       "    <tr>\n",
       "      <th>WV</th>\n",
       "      <td>1285</td>\n",
       "    </tr>\n",
       "    <tr>\n",
       "      <th>NE</th>\n",
       "      <td>1213</td>\n",
       "    </tr>\n",
       "    <tr>\n",
       "      <th>AL</th>\n",
       "      <td>864</td>\n",
       "    </tr>\n",
       "    <tr>\n",
       "      <th>MD</th>\n",
       "      <td>706</td>\n",
       "    </tr>\n",
       "    <tr>\n",
       "      <th>VT</th>\n",
       "      <td>323</td>\n",
       "    </tr>\n",
       "    <tr>\n",
       "      <th>OR</th>\n",
       "      <td>312</td>\n",
       "    </tr>\n",
       "    <tr>\n",
       "      <th>WY</th>\n",
       "      <td>288</td>\n",
       "    </tr>\n",
       "    <tr>\n",
       "      <th>IL</th>\n",
       "      <td>177</td>\n",
       "    </tr>\n",
       "    <tr>\n",
       "      <th>MN</th>\n",
       "      <td>39</td>\n",
       "    </tr>\n",
       "    <tr>\n",
       "      <th>TN</th>\n",
       "      <td>38</td>\n",
       "    </tr>\n",
       "    <tr>\n",
       "      <th>ID</th>\n",
       "      <td>23</td>\n",
       "    </tr>\n",
       "    <tr>\n",
       "      <th>AR</th>\n",
       "      <td>20</td>\n",
       "    </tr>\n",
       "    <tr>\n",
       "      <th>OH</th>\n",
       "      <td>15</td>\n",
       "    </tr>\n",
       "    <tr>\n",
       "      <th>DE</th>\n",
       "      <td>6</td>\n",
       "    </tr>\n",
       "    <tr>\n",
       "      <th>LA</th>\n",
       "      <td>2</td>\n",
       "    </tr>\n",
       "    <tr>\n",
       "      <th>CT</th>\n",
       "      <td>2</td>\n",
       "    </tr>\n",
       "    <tr>\n",
       "      <th>MT</th>\n",
       "      <td>2</td>\n",
       "    </tr>\n",
       "    <tr>\n",
       "      <th>MO</th>\n",
       "      <td>1</td>\n",
       "    </tr>\n",
       "    <tr>\n",
       "      <th>IN</th>\n",
       "      <td>1</td>\n",
       "    </tr>\n",
       "    <tr>\n",
       "      <th>HI</th>\n",
       "      <td>1</td>\n",
       "    </tr>\n",
       "  </tbody>\n",
       "</table>\n",
       "</div>"
      ],
      "text/plain": [
       "       number_of_restaurants\n",
       "state                       \n",
       "TX                     23768\n",
       "VA                      7671\n",
       "WA                      5335\n",
       "WI                      3837\n",
       "UT                      2528\n",
       "WV                      1285\n",
       "NE                      1213\n",
       "AL                       864\n",
       "MD                       706\n",
       "VT                       323\n",
       "OR                       312\n",
       "WY                       288\n",
       "IL                       177\n",
       "MN                        39\n",
       "TN                        38\n",
       "ID                        23\n",
       "AR                        20\n",
       "OH                        15\n",
       "DE                         6\n",
       "LA                         2\n",
       "CT                         2\n",
       "MT                         2\n",
       "MO                         1\n",
       "IN                         1\n",
       "HI                         1"
      ]
     },
     "execution_count": 31,
     "metadata": {},
     "output_type": "execute_result"
    }
   ],
   "source": [
    "#Grouping by state to fint the number of resturants per state\n",
    "count_of_restaurants_by_state = merged_data.groupby('state').agg({'state':'count'})\n",
    "# Renaming the column to Number of Restaurants\n",
    "count_of_restaurants_by_state.columns = ['number_of_restaurants']\n",
    "# Sorting values in descending order\n",
    "count_of_restaurants_by_state.sort_values(by='number_of_restaurants', ascending=False)"
   ]
  },
  {
   "cell_type": "markdown",
   "metadata": {},
   "source": [
    "`Texas (TX)` has the highest number of restaurants: With `23,768` restaurants, Texas is the state with the highest number of restaurants in the dataset. This suggests that Texas has a vibrant and diverse restaurant industry.\n",
    "\n",
    "`Virginia (VA)` and `Washington (WA)` follow Texas: Virginia and Washington are the next two states with the highest numbers of restaurants, with `7,671` and `5,335` restaurants respectively. These states also have significant numbers of dining establishments.\n",
    "\n",
    "`Wisconsin (WI)` and `Utah (UT)` also have substantial restaurant numbers: Wisconsin and Utah have `3,837` and `2,528` restaurants respectively. This indicates that these states also have active dining scenes.\n",
    "\n",
    "Some states have relatively few restaurants: States like `Indiana (IN)`, `Hawaii (HI)`, and `Missouri (MO)` have only one restaurant each in the dataset. This could suggest a smaller or less developed restaurant industry in these states compared to others."
   ]
  },
  {
   "cell_type": "markdown",
   "metadata": {},
   "source": [
    "### *How Many Cuisines Are Offered By Restaurants?*"
   ]
  },
  {
   "cell_type": "code",
   "execution_count": null,
   "metadata": {},
   "outputs": [],
   "source": [
    "# Define a regex pattern to match culture-related words\n",
    "culture_pattern = re.compile(r'\\b(?:American|Mexican|Italian|Greek|Chinese|Indian|Japanese|French|Spanish|Latin American|Mediterranean|Cuban|Caribbean|Middle Eastern|Cantonese|Asian Fusion|Asian|Black-owned|Soul Food)\\b', re.IGNORECASE)\n",
    "# Function to extract and replace culture in the 'category_of_restaurant' column\n",
    "def extract_and_replace_culture(row):\n",
    "    matches = culture_pattern.findall(str(row['category_x']))\n",
    "    return ', '.join(matches)\n",
    "# Apply the function to modify the 'category_of_restaurant' column in place\n",
    "restaurants['category_x'] = restaurants.apply(extract_and_replace_culture, axis=1)\n",
    "# We see that some columns have multiple cultures, we remove everything after the first comma in the 'category' column\n",
    "restaurants['category_x'] = restaurants['category_x'].str.split(',').str[0]\n",
    "# Replace blank values in 'category_of_restaurant' to null values\n",
    "restaurants.replace('', np.nan, inplace = True)\n",
    "# #Dropping null values from the 'category_of_restaurant' column\n",
    "restaurants.dropna(subset =['category_x'], inplace = True)"
   ]
  },
  {
   "cell_type": "code",
   "execution_count": null,
   "metadata": {},
   "outputs": [
    {
     "data": {
      "text/html": [
       "<div>\n",
       "<style scoped>\n",
       "    .dataframe tbody tr th:only-of-type {\n",
       "        vertical-align: middle;\n",
       "    }\n",
       "\n",
       "    .dataframe tbody tr th {\n",
       "        vertical-align: top;\n",
       "    }\n",
       "\n",
       "    .dataframe thead th {\n",
       "        text-align: right;\n",
       "    }\n",
       "</style>\n",
       "<table border=\"1\" class=\"dataframe\">\n",
       "  <thead>\n",
       "    <tr style=\"text-align: right;\">\n",
       "      <th></th>\n",
       "      <th>id</th>\n",
       "      <th>position</th>\n",
       "      <th>name_x</th>\n",
       "      <th>score</th>\n",
       "      <th>ratings</th>\n",
       "      <th>category_x</th>\n",
       "      <th>full_address</th>\n",
       "      <th>zip_code</th>\n",
       "      <th>price_mean</th>\n",
       "      <th>state</th>\n",
       "      <th>region</th>\n",
       "      <th>number_of_dishes</th>\n",
       "      <th>main_cuisine</th>\n",
       "    </tr>\n",
       "  </thead>\n",
       "  <tbody>\n",
       "    <tr>\n",
       "      <th>0</th>\n",
       "      <td>1.0</td>\n",
       "      <td>19.0</td>\n",
       "      <td>PJ Fresh (224 Daniel Payne Drive)</td>\n",
       "      <td>4.6</td>\n",
       "      <td>52.0</td>\n",
       "      <td>Burgers, American, Sandwiches</td>\n",
       "      <td>224 Daniel Payne Drive, Birmingham, AL, 35207</td>\n",
       "      <td>35207</td>\n",
       "      <td>5.06</td>\n",
       "      <td>AL</td>\n",
       "      <td>southeast_region</td>\n",
       "      <td>72.0</td>\n",
       "      <td>Burgers</td>\n",
       "    </tr>\n",
       "    <tr>\n",
       "      <th>72</th>\n",
       "      <td>3.0</td>\n",
       "      <td>6.0</td>\n",
       "      <td>Philly Fresh Cheesesteaks (541-B Graymont Ave)</td>\n",
       "      <td>4.6</td>\n",
       "      <td>52.0</td>\n",
       "      <td>American, Cheesesteak, Sandwiches, Alcohol</td>\n",
       "      <td>541-B Graymont Ave, Birmingham, AL, 35204</td>\n",
       "      <td>35204</td>\n",
       "      <td>12.45</td>\n",
       "      <td>AL</td>\n",
       "      <td>southeast_region</td>\n",
       "      <td>23.0</td>\n",
       "      <td>American</td>\n",
       "    </tr>\n",
       "    <tr>\n",
       "      <th>95</th>\n",
       "      <td>4.0</td>\n",
       "      <td>17.0</td>\n",
       "      <td>Papa Murphy's (1580 Montgomery Highway)</td>\n",
       "      <td>4.6</td>\n",
       "      <td>52.0</td>\n",
       "      <td>Pizza</td>\n",
       "      <td>1580 Montgomery Highway, Hoover, AL, 35226</td>\n",
       "      <td>35226</td>\n",
       "      <td>10.76</td>\n",
       "      <td>AL</td>\n",
       "      <td>southeast_region</td>\n",
       "      <td>36.0</td>\n",
       "      <td>Pizza</td>\n",
       "    </tr>\n",
       "    <tr>\n",
       "      <th>131</th>\n",
       "      <td>6.0</td>\n",
       "      <td>75.0</td>\n",
       "      <td>Ocean Restaurant</td>\n",
       "      <td>4.6</td>\n",
       "      <td>52.0</td>\n",
       "      <td>Seafood, Sushi, Steak</td>\n",
       "      <td>1218 20th Street South, Birmingham, AL, 35205</td>\n",
       "      <td>35205</td>\n",
       "      <td>29.19</td>\n",
       "      <td>AL</td>\n",
       "      <td>southeast_region</td>\n",
       "      <td>31.0</td>\n",
       "      <td>Seafood</td>\n",
       "    </tr>\n",
       "    <tr>\n",
       "      <th>162</th>\n",
       "      <td>7.0</td>\n",
       "      <td>27.0</td>\n",
       "      <td>Jinsei Sushi</td>\n",
       "      <td>4.7</td>\n",
       "      <td>63.0</td>\n",
       "      <td>Sushi, Asian, Japanese</td>\n",
       "      <td>1830 29th Ave S, Birmingham, AL, 35209</td>\n",
       "      <td>35209</td>\n",
       "      <td>12.50</td>\n",
       "      <td>AL</td>\n",
       "      <td>southeast_region</td>\n",
       "      <td>62.0</td>\n",
       "      <td>Sushi</td>\n",
       "    </tr>\n",
       "  </tbody>\n",
       "</table>\n",
       "</div>"
      ],
      "text/plain": [
       "      id  position                                          name_x  score  \\\n",
       "0    1.0      19.0               PJ Fresh (224 Daniel Payne Drive)    4.6   \n",
       "72   3.0       6.0  Philly Fresh Cheesesteaks (541-B Graymont Ave)    4.6   \n",
       "95   4.0      17.0         Papa Murphy's (1580 Montgomery Highway)    4.6   \n",
       "131  6.0      75.0                                Ocean Restaurant    4.6   \n",
       "162  7.0      27.0                                    Jinsei Sushi    4.7   \n",
       "\n",
       "     ratings                                  category_x  \\\n",
       "0       52.0               Burgers, American, Sandwiches   \n",
       "72      52.0  American, Cheesesteak, Sandwiches, Alcohol   \n",
       "95      52.0                                       Pizza   \n",
       "131     52.0                       Seafood, Sushi, Steak   \n",
       "162     63.0                      Sushi, Asian, Japanese   \n",
       "\n",
       "                                      full_address zip_code  price_mean state  \\\n",
       "0    224 Daniel Payne Drive, Birmingham, AL, 35207    35207        5.06    AL   \n",
       "72       541-B Graymont Ave, Birmingham, AL, 35204    35204       12.45    AL   \n",
       "95      1580 Montgomery Highway, Hoover, AL, 35226    35226       10.76    AL   \n",
       "131  1218 20th Street South, Birmingham, AL, 35205    35205       29.19    AL   \n",
       "162         1830 29th Ave S, Birmingham, AL, 35209    35209       12.50    AL   \n",
       "\n",
       "               region  number_of_dishes main_cuisine  \n",
       "0    southeast_region              72.0      Burgers  \n",
       "72   southeast_region              23.0     American  \n",
       "95   southeast_region              36.0        Pizza  \n",
       "131  southeast_region              31.0      Seafood  \n",
       "162  southeast_region              62.0        Sushi  "
      ]
     },
     "execution_count": 32,
     "metadata": {},
     "output_type": "execute_result"
    }
   ],
   "source": [
    "# Function to extract the main cuisine from the category_x column\n",
    "def extract_main_cuisine(row):\n",
    "    categories = str(row['category_x']).split(',')\n",
    "    if categories:\n",
    "        return categories[0].strip()\n",
    "    else:\n",
    "        return None\n",
    "\n",
    "# Apply the function to create a new column for the main cuisine\n",
    "merged_data['main_dish'] = merged_data.apply(extract_main_cuisine, axis=1)\n",
    "\n",
    "# Displaying the main cuisine for each restaurant\n",
    "merged_data.head()"
   ]
  },
  {
   "cell_type": "markdown",
   "metadata": {},
   "source": [
    "A new column named `price_category` was introduced to categorize restaurants based on their price ranges, given the prevalence of missing values in the original 'price_range' column. The price range was calculated using 'price_of_item_mean,' excluding outliers and setting the lower bound as the minimum value and the upper bound 1.5 times the interquartile range above the upper quartile. Restaurants with prices falling within the first 1/3 of the price range were classified as 'cheap_prices,' those within the last 1/3 as 'high-end_prices,' and the remainder as 'average_prices.' This method allows for more precise restaurant categorization based on average item prices."
   ]
  },
  {
   "cell_type": "code",
   "execution_count": null,
   "metadata": {},
   "outputs": [],
   "source": [
    "# Check for the Interquartile range\n",
    "iqr = (merged_data['price_mean'].quantile(q=0.75) - merged_data['price_mean'].quantile(q=0.25)) * 1.5\n",
    "\n",
    "# Divide the price of item mean range into 3 portions for categorizations\n",
    "# Sum up upper quartile and 1.5*interquartile range to exclude the extreme value and create upper bound.\n",
    "# Minus the upper bound by the minimum value and divided it by 3 to divide the range into 3 equal portions.\n",
    "interval = (merged_data['price_mean'].quantile(q=0.75) + iqr - merged_data['price_mean'].min()) / 3\n",
    "\n",
    "# low_p set the price at the first 1/3 of the range\n",
    "low_p = merged_data['price_mean'].min() + interval\n",
    "\n",
    "# high_p is set the price at 2/3 of the range\n",
    "high_p = low_p + interval\n",
    "\n",
    "# Create a list of our conditions. This was based on items that were less than or equal low_p, between low_p and upper_p percentile, and greater than or equal to the high_p percentile\n",
    "price_conditions = [\n",
    "    (merged_data['price_mean'] <= low_p),\n",
    "    (merged_data['price_mean'] > low_p) & (merged_data['price_mean'] < high_p),\n",
    "    (merged_data['price_mean'] >= high_p)\n",
    "]\n",
    "\n",
    "# Create a list of the values we want to assign for each condition\n",
    "price_values = ['cheap_prices', 'average_prices', 'high_end_prices']\n",
    "\n",
    "# Create a new column and use np.select to assign values to it using our lists as arguments\n",
    "merged_data['price_category'] = np.select(price_conditions, price_values)"
   ]
  },
  {
   "cell_type": "code",
   "execution_count": null,
   "metadata": {},
   "outputs": [
    {
     "data": {
      "text/html": [
       "<div>\n",
       "<style scoped>\n",
       "    .dataframe tbody tr th:only-of-type {\n",
       "        vertical-align: middle;\n",
       "    }\n",
       "\n",
       "    .dataframe tbody tr th {\n",
       "        vertical-align: top;\n",
       "    }\n",
       "\n",
       "    .dataframe thead th {\n",
       "        text-align: right;\n",
       "    }\n",
       "</style>\n",
       "<table border=\"1\" class=\"dataframe\">\n",
       "  <thead>\n",
       "    <tr style=\"text-align: right;\">\n",
       "      <th></th>\n",
       "      <th>id</th>\n",
       "      <th>position</th>\n",
       "      <th>name_x</th>\n",
       "      <th>score</th>\n",
       "      <th>ratings</th>\n",
       "      <th>category_x</th>\n",
       "      <th>full_address</th>\n",
       "      <th>zip_code</th>\n",
       "      <th>price_mean</th>\n",
       "      <th>state</th>\n",
       "      <th>region</th>\n",
       "      <th>number_of_dishes</th>\n",
       "      <th>main_cuisine</th>\n",
       "      <th>price_category</th>\n",
       "    </tr>\n",
       "  </thead>\n",
       "  <tbody>\n",
       "    <tr>\n",
       "      <th>0</th>\n",
       "      <td>1.0</td>\n",
       "      <td>19.0</td>\n",
       "      <td>PJ Fresh (224 Daniel Payne Drive)</td>\n",
       "      <td>4.6</td>\n",
       "      <td>52.0</td>\n",
       "      <td>Burgers, American, Sandwiches</td>\n",
       "      <td>224 Daniel Payne Drive, Birmingham, AL, 35207</td>\n",
       "      <td>35207</td>\n",
       "      <td>5.06</td>\n",
       "      <td>AL</td>\n",
       "      <td>southeast_region</td>\n",
       "      <td>72.0</td>\n",
       "      <td>Burgers</td>\n",
       "      <td>cheap_prices</td>\n",
       "    </tr>\n",
       "    <tr>\n",
       "      <th>72</th>\n",
       "      <td>3.0</td>\n",
       "      <td>6.0</td>\n",
       "      <td>Philly Fresh Cheesesteaks (541-B Graymont Ave)</td>\n",
       "      <td>4.6</td>\n",
       "      <td>52.0</td>\n",
       "      <td>American, Cheesesteak, Sandwiches, Alcohol</td>\n",
       "      <td>541-B Graymont Ave, Birmingham, AL, 35204</td>\n",
       "      <td>35204</td>\n",
       "      <td>12.45</td>\n",
       "      <td>AL</td>\n",
       "      <td>southeast_region</td>\n",
       "      <td>23.0</td>\n",
       "      <td>American</td>\n",
       "      <td>average_prices</td>\n",
       "    </tr>\n",
       "    <tr>\n",
       "      <th>95</th>\n",
       "      <td>4.0</td>\n",
       "      <td>17.0</td>\n",
       "      <td>Papa Murphy's (1580 Montgomery Highway)</td>\n",
       "      <td>4.6</td>\n",
       "      <td>52.0</td>\n",
       "      <td>Pizza</td>\n",
       "      <td>1580 Montgomery Highway, Hoover, AL, 35226</td>\n",
       "      <td>35226</td>\n",
       "      <td>10.76</td>\n",
       "      <td>AL</td>\n",
       "      <td>southeast_region</td>\n",
       "      <td>36.0</td>\n",
       "      <td>Pizza</td>\n",
       "      <td>average_prices</td>\n",
       "    </tr>\n",
       "    <tr>\n",
       "      <th>131</th>\n",
       "      <td>6.0</td>\n",
       "      <td>75.0</td>\n",
       "      <td>Ocean Restaurant</td>\n",
       "      <td>4.6</td>\n",
       "      <td>52.0</td>\n",
       "      <td>Seafood, Sushi, Steak</td>\n",
       "      <td>1218 20th Street South, Birmingham, AL, 35205</td>\n",
       "      <td>35205</td>\n",
       "      <td>29.19</td>\n",
       "      <td>AL</td>\n",
       "      <td>southeast_region</td>\n",
       "      <td>31.0</td>\n",
       "      <td>Seafood</td>\n",
       "      <td>high_end_prices</td>\n",
       "    </tr>\n",
       "    <tr>\n",
       "      <th>162</th>\n",
       "      <td>7.0</td>\n",
       "      <td>27.0</td>\n",
       "      <td>Jinsei Sushi</td>\n",
       "      <td>4.7</td>\n",
       "      <td>63.0</td>\n",
       "      <td>Sushi, Asian, Japanese</td>\n",
       "      <td>1830 29th Ave S, Birmingham, AL, 35209</td>\n",
       "      <td>35209</td>\n",
       "      <td>12.50</td>\n",
       "      <td>AL</td>\n",
       "      <td>southeast_region</td>\n",
       "      <td>62.0</td>\n",
       "      <td>Sushi</td>\n",
       "      <td>average_prices</td>\n",
       "    </tr>\n",
       "  </tbody>\n",
       "</table>\n",
       "</div>"
      ],
      "text/plain": [
       "      id  position                                          name_x  score  \\\n",
       "0    1.0      19.0               PJ Fresh (224 Daniel Payne Drive)    4.6   \n",
       "72   3.0       6.0  Philly Fresh Cheesesteaks (541-B Graymont Ave)    4.6   \n",
       "95   4.0      17.0         Papa Murphy's (1580 Montgomery Highway)    4.6   \n",
       "131  6.0      75.0                                Ocean Restaurant    4.6   \n",
       "162  7.0      27.0                                    Jinsei Sushi    4.7   \n",
       "\n",
       "     ratings                                  category_x  \\\n",
       "0       52.0               Burgers, American, Sandwiches   \n",
       "72      52.0  American, Cheesesteak, Sandwiches, Alcohol   \n",
       "95      52.0                                       Pizza   \n",
       "131     52.0                       Seafood, Sushi, Steak   \n",
       "162     63.0                      Sushi, Asian, Japanese   \n",
       "\n",
       "                                      full_address zip_code  price_mean state  \\\n",
       "0    224 Daniel Payne Drive, Birmingham, AL, 35207    35207        5.06    AL   \n",
       "72       541-B Graymont Ave, Birmingham, AL, 35204    35204       12.45    AL   \n",
       "95      1580 Montgomery Highway, Hoover, AL, 35226    35226       10.76    AL   \n",
       "131  1218 20th Street South, Birmingham, AL, 35205    35205       29.19    AL   \n",
       "162         1830 29th Ave S, Birmingham, AL, 35209    35209       12.50    AL   \n",
       "\n",
       "               region  number_of_dishes main_cuisine   price_category  \n",
       "0    southeast_region              72.0      Burgers     cheap_prices  \n",
       "72   southeast_region              23.0     American   average_prices  \n",
       "95   southeast_region              36.0        Pizza   average_prices  \n",
       "131  southeast_region              31.0      Seafood  high_end_prices  \n",
       "162  southeast_region              62.0        Sushi   average_prices  "
      ]
     },
     "execution_count": 34,
     "metadata": {},
     "output_type": "execute_result"
    }
   ],
   "source": [
    "merged_data.head()"
   ]
  },
  {
   "cell_type": "markdown",
   "metadata": {},
   "source": [
    ">> We are converting the data type of the `ratings` column from float to integer because ratings represent the number of ratings received by a restaurant. Since the number of ratings is always a whole number, it makes sense to store this data as integers rather than floats. This conversion ensures that the data accurately reflects the nature of ratings and allows for more efficient storage and analysis."
   ]
  },
  {
   "cell_type": "code",
   "execution_count": null,
   "metadata": {},
   "outputs": [],
   "source": [
    "# Change data type of ratings column to integer\n",
    "merged_data['ratings'] = merged_data['ratings'].astype(int)\n",
    "\n",
    "# Rename ratings column to number_of_ratings\n",
    "merged_data.rename(columns={'ratings': 'number_of_ratings'}, inplace=True)"
   ]
  },
  {
   "cell_type": "markdown",
   "metadata": {},
   "source": [
    "### **EXPLORATORY DATA ANALYSIS**\n",
    "\n",
    "Exploratory Data Analysis (EDA) plays a crucial role in our project, aiming to uncover insights and patterns within the Uber Eats dataset. We employ various types of analysis to understand the data better and inform decision-making for improving restaurant profitability on the platform.\n"
   ]
  },
  {
   "cell_type": "markdown",
   "metadata": {},
   "source": [
    "#### *Restaurant Location*"
   ]
  },
  {
   "cell_type": "code",
   "execution_count": null,
   "metadata": {},
   "outputs": [],
   "source": [
    "\"\"\"\n",
    "import geopandas as gpd\n",
    "import matplotlib.pyplot as plt\n",
    "\n",
    "# Load the world dataset from geopandas\n",
    "world = gpd.read_file(gpd.datasets.get_path('naturalearth_lowres'))\n",
    "\n",
    "# Filter the world dataset to include only the United States\n",
    "usa = world[world.name == 'United States']\n",
    "\n",
    "# Plot the map of the United States\n",
    "fig, ax = plt.subplots(figsize=(10, 10))\n",
    "usa.plot(ax=ax, color='lightgrey')\n",
    "\n",
    "# Plot restaurant locations on the map\n",
    "merged_data.plot(ax=ax, kind='scatter', x='lng', y='lat', color='red', alpha=0.5, s=5)\n",
    "plt.title('Restaurant Locations in the United States')\n",
    "plt.xlabel('Longitude')\n",
    "plt.ylabel('Latitude')\n",
    "plt.grid(True)\n",
    "plt.show()\n",
    "\"\"\"\""
   ]
  },
  {
   "cell_type": "markdown",
   "metadata": {},
   "source": [
    "#### *Restaurant Pricing*"
   ]
  },
  {
   "cell_type": "code",
   "execution_count": null,
   "metadata": {},
   "outputs": [
    {
     "name": "stderr",
     "output_type": "stream",
     "text": [
      "No artists with labels found to put in legend.  Note that artists whose label start with an underscore are ignored when legend() is called with no argument.\n"
     ]
    },
    {
     "data": {
      "image/png": "[encoded data removed]",
      "text/plain": [
       "<Figure size 2500x500 with 5 Axes>"
      ]
     },
     "metadata": {},
     "output_type": "display_data"
    }
   ],
   "source": [
    "import seaborn as sns\n",
    "import matplotlib.pyplot as plt\n",
    "# Filter out rows where price category is not equal to 0\n",
    "filtered_data = merged_data[merged_data['price_category'] != 0]\n",
    "# Define the order of price categories\n",
    "cat_order = ['cheap_prices', 'average_prices', 'high_end_prices']\n",
    "\n",
    "# Plotting the distribution of different price categories of restaurants in each region\n",
    "region_price = sns.catplot(x='price_category', \n",
    "                           data=filtered_data,  # Use filtered_data to exclude rows with price category 0\n",
    "                           kind='count', \n",
    "                           col='region', \n",
    "                           order=cat_order, \n",
    "                           hue='region',  # Add hue for region\n",
    "                           palette='Set2',  # Choose a color palette for regions\n",
    "                           legend=False)  # Disable legend for better layout\n",
    "\n",
    "# Set title and adjust layout\n",
    "region_price.fig.suptitle(\"Number of Price Category Restaurants in Each Region\", y=1.03)\n",
    "plt.legend(title='Region', loc='upper right')\n",
    "plt.tight_layout()\n",
    "\n",
    "# Show the plot\n",
    "plt.show()"
   ]
  },
  {
   "cell_type": "markdown",
   "metadata": {},
   "source": [
    "By segmenting restaurant pricing into three categories - cheap, average, and high-end - we gain insight into menu pricing disparities across regions. Across all regions, the majority of restaurants fall within the average price range. However, a closer examination of the quantity distribution among these categories reveals a notable trend in the southwest region, where the concentration is notably skewed towards the average price bracket. This nuanced understanding of market segmentation can inform strategic pricing decisions, empowering restaurants to differentiate themselves through competitive pricing strategies, such as offering below-average prices.\n",
    "\n",
    "Interestingly, the northeast region exhibits a higher proportion of high-end priced restaurants compared to cheaper options. This suggests a consumer base in this region willing to invest in premium dining experiences, even when ordering food for delivery.\n",
    "\n",
    "In summary, the visualization illustrates the distribution of various price categories across different regions in the USA:\n",
    "\n",
    "- **Cheap Prices Category:** Restaurants offering meals priced below or equal to $7.64.\n",
    "- **Average Prices Category:** Establishments with prices ranging between $7.64 - $14.29.\n",
    "- **High-End Prices Category:** Restaurants with prices above or equal to $14.29.\n",
    "\n",
    "The data underscores the dominance of restaurants falling within the 'Average Prices Category' across all regions, while also highlighting regional variations in consumer preferences and willingness to pay for food delivery services."
   ]
  },
  {
   "cell_type": "code",
   "execution_count": null,
   "metadata": {},
   "outputs": [
    {
     "name": "stdout",
     "output_type": "stream",
     "text": [
      "    price_category  number_of_dishes\n",
      "0                0               NaN\n",
      "1   average_prices         67.813583\n",
      "2     cheap_prices         65.643907\n",
      "3  high_end_prices         50.766428\n",
      "\n"
     ]
    },
    {
     "data": {
      "image/png": "[encoded data removed]",
      "text/plain": [
       "<Figure size 800x800 with 1 Axes>"
      ]
     },
     "metadata": {},
     "output_type": "display_data"
    }
   ],
   "source": [
    "# Grouping by 'price_category' and calculating the mean number of dishes\n",
    "price_dishes = merged_data.groupby('price_category')['number_of_dishes'].mean().reset_index()\n",
    "print(price_dishes)\n",
    "print('')\n",
    "\n",
    "# Plotting the bar plot\n",
    "plt.figure(figsize=(8,8))\n",
    "cat_order = ['cheap_prices', 'average_prices', 'high_end_prices']\n",
    "sns.barplot(x='price_category', y='number_of_dishes', data=price_dishes, order=cat_order)\n",
    "plt.title('Average Number of Dishes by Price Category')\n",
    "plt.xlabel('Price Category')\n",
    "plt.ylabel('Average Number of Dishes')\n",
    "plt.show()"
   ]
  },
  {
   "cell_type": "markdown",
   "metadata": {},
   "source": [
    "The barplot provides insights into the average number of dishes offered by restaurants across different price categories:\n",
    "\n",
    "1. **Average Prices Category**: Restaurants categorized under average prices offer an average of approximately 93.6 dishes. This suggests that establishments in this price range typically maintain a diverse menu selection to cater to a broad range of customer preferences. The relatively high number of dishes may indicate a focus on variety and affordability to attract a larger customer base.\n",
    "\n",
    "2. **Cheap Prices Category**: Restaurants in the cheap price category offer a slightly lower average number of dishes compared to the average price category, with approximately 93.0 dishes on average. Despite the lower pricing, these establishments still maintain a considerable menu variety, indicating a focus on providing value to customers while keeping operational costs low.\n",
    "\n",
    "3. **High-End Prices Category**: Restaurants categorized as high-end prices offer the highest average number of dishes, with approximately 97.8 dishes. This suggests that higher-priced restaurants prioritize offering extensive menu options, potentially focusing on gourmet or specialty items to justify their premium pricing. The larger menu selection may contribute to enhancing the overall dining experience and catering to discerning customers willing to pay premium prices for quality offerings.\n"
   ]
  },
  {
   "cell_type": "markdown",
   "metadata": {},
   "source": [
    "#### *Restaurant Categories*"
   ]
  },
  {
   "cell_type": "code",
   "execution_count": null,
   "metadata": {},
   "outputs": [
    {
     "ename": "KeyError",
     "evalue": "'category_of_restaurant'",
     "output_type": "error",
     "traceback": [
      "\u001b[1;31m---------------------------------------------------------------------------\u001b[0m",
      "\u001b[1;31mKeyError\u001b[0m                                  Traceback (most recent call last)",
      "Cell \u001b[1;32mIn[46], line 14\u001b[0m\n\u001b[0;32m     12\u001b[0m   size\u001b[38;5;241m=\u001b[39my2\u001b[38;5;241m*\u001b[39m\u001b[38;5;241m5\u001b[39m\n\u001b[0;32m     13\u001b[0m   \u001b[38;5;28;01mreturn\u001b[39;00m (x2,y2,size)\n\u001b[1;32m---> 14\u001b[0m vals1\u001b[38;5;241m=\u001b[39m \u001b[43mfunc\u001b[49m\u001b[43m(\u001b[49m\u001b[43mr1\u001b[49m\u001b[43m)\u001b[49m\n\u001b[0;32m     15\u001b[0m vals2\u001b[38;5;241m=\u001b[39m func(r2)\n\u001b[0;32m     16\u001b[0m vals3\u001b[38;5;241m=\u001b[39m func(r3)\n",
      "Cell \u001b[1;32mIn[46], line 9\u001b[0m, in \u001b[0;36mfunc\u001b[1;34m(R)\u001b[0m\n\u001b[0;32m      8\u001b[0m \u001b[38;5;28;01mdef\u001b[39;00m \u001b[38;5;21mfunc\u001b[39m (R):\n\u001b[1;32m----> 9\u001b[0m   y1\u001b[38;5;241m=\u001b[39m\u001b[43mR\u001b[49m\u001b[38;5;241;43m.\u001b[39;49m\u001b[43mgroupby\u001b[49m\u001b[43m(\u001b[49m\u001b[38;5;124;43m'\u001b[39;49m\u001b[38;5;124;43mcategory_of_restaurant\u001b[39;49m\u001b[38;5;124;43m'\u001b[39;49m\u001b[43m)\u001b[49m[\u001b[38;5;124m'\u001b[39m\u001b[38;5;124mname\u001b[39m\u001b[38;5;124m'\u001b[39m]\u001b[38;5;241m.\u001b[39mcount()\u001b[38;5;241m.\u001b[39msort_values(ascending\u001b[38;5;241m=\u001b[39m\u001b[38;5;28;01mFalse\u001b[39;00m)\n\u001b[0;32m     10\u001b[0m   y2\u001b[38;5;241m=\u001b[39my1\u001b[38;5;241m.\u001b[39mvalues\n\u001b[0;32m     11\u001b[0m   x2\u001b[38;5;241m=\u001b[39my1\u001b[38;5;241m.\u001b[39mindex\n",
      "File \u001b[1;32mc:\\Users\\ndung\\AppData\\Local\\Programs\\Python\\Python312\\Lib\\site-packages\\pandas\\core\\frame.py:9170\u001b[0m, in \u001b[0;36mDataFrame.groupby\u001b[1;34m(self, by, axis, level, as_index, sort, group_keys, observed, dropna)\u001b[0m\n\u001b[0;32m   9167\u001b[0m \u001b[38;5;28;01mif\u001b[39;00m level \u001b[38;5;129;01mis\u001b[39;00m \u001b[38;5;28;01mNone\u001b[39;00m \u001b[38;5;129;01mand\u001b[39;00m by \u001b[38;5;129;01mis\u001b[39;00m \u001b[38;5;28;01mNone\u001b[39;00m:\n\u001b[0;32m   9168\u001b[0m     \u001b[38;5;28;01mraise\u001b[39;00m \u001b[38;5;167;01mTypeError\u001b[39;00m(\u001b[38;5;124m\"\u001b[39m\u001b[38;5;124mYou have to supply one of \u001b[39m\u001b[38;5;124m'\u001b[39m\u001b[38;5;124mby\u001b[39m\u001b[38;5;124m'\u001b[39m\u001b[38;5;124m and \u001b[39m\u001b[38;5;124m'\u001b[39m\u001b[38;5;124mlevel\u001b[39m\u001b[38;5;124m'\u001b[39m\u001b[38;5;124m\"\u001b[39m)\n\u001b[1;32m-> 9170\u001b[0m \u001b[38;5;28;01mreturn\u001b[39;00m \u001b[43mDataFrameGroupBy\u001b[49m\u001b[43m(\u001b[49m\n\u001b[0;32m   9171\u001b[0m \u001b[43m    \u001b[49m\u001b[43mobj\u001b[49m\u001b[38;5;241;43m=\u001b[39;49m\u001b[38;5;28;43mself\u001b[39;49m\u001b[43m,\u001b[49m\n\u001b[0;32m   9172\u001b[0m \u001b[43m    \u001b[49m\u001b[43mkeys\u001b[49m\u001b[38;5;241;43m=\u001b[39;49m\u001b[43mby\u001b[49m\u001b[43m,\u001b[49m\n\u001b[0;32m   9173\u001b[0m \u001b[43m    \u001b[49m\u001b[43maxis\u001b[49m\u001b[38;5;241;43m=\u001b[39;49m\u001b[43maxis\u001b[49m\u001b[43m,\u001b[49m\n\u001b[0;32m   9174\u001b[0m \u001b[43m    \u001b[49m\u001b[43mlevel\u001b[49m\u001b[38;5;241;43m=\u001b[39;49m\u001b[43mlevel\u001b[49m\u001b[43m,\u001b[49m\n\u001b[0;32m   9175\u001b[0m \u001b[43m    \u001b[49m\u001b[43mas_index\u001b[49m\u001b[38;5;241;43m=\u001b[39;49m\u001b[43mas_index\u001b[49m\u001b[43m,\u001b[49m\n\u001b[0;32m   9176\u001b[0m \u001b[43m    \u001b[49m\u001b[43msort\u001b[49m\u001b[38;5;241;43m=\u001b[39;49m\u001b[43msort\u001b[49m\u001b[43m,\u001b[49m\n\u001b[0;32m   9177\u001b[0m \u001b[43m    \u001b[49m\u001b[43mgroup_keys\u001b[49m\u001b[38;5;241;43m=\u001b[39;49m\u001b[43mgroup_keys\u001b[49m\u001b[43m,\u001b[49m\n\u001b[0;32m   9178\u001b[0m \u001b[43m    \u001b[49m\u001b[43mobserved\u001b[49m\u001b[38;5;241;43m=\u001b[39;49m\u001b[43mobserved\u001b[49m\u001b[43m,\u001b[49m\n\u001b[0;32m   9179\u001b[0m \u001b[43m    \u001b[49m\u001b[43mdropna\u001b[49m\u001b[38;5;241;43m=\u001b[39;49m\u001b[43mdropna\u001b[49m\u001b[43m,\u001b[49m\n\u001b[0;32m   9180\u001b[0m \u001b[43m\u001b[49m\u001b[43m)\u001b[49m\n",
      "File \u001b[1;32mc:\\Users\\ndung\\AppData\\Local\\Programs\\Python\\Python312\\Lib\\site-packages\\pandas\\core\\groupby\\groupby.py:1329\u001b[0m, in \u001b[0;36mGroupBy.__init__\u001b[1;34m(self, obj, keys, axis, level, grouper, exclusions, selection, as_index, sort, group_keys, observed, dropna)\u001b[0m\n\u001b[0;32m   1326\u001b[0m \u001b[38;5;28mself\u001b[39m\u001b[38;5;241m.\u001b[39mdropna \u001b[38;5;241m=\u001b[39m dropna\n\u001b[0;32m   1328\u001b[0m \u001b[38;5;28;01mif\u001b[39;00m grouper \u001b[38;5;129;01mis\u001b[39;00m \u001b[38;5;28;01mNone\u001b[39;00m:\n\u001b[1;32m-> 1329\u001b[0m     grouper, exclusions, obj \u001b[38;5;241m=\u001b[39m \u001b[43mget_grouper\u001b[49m\u001b[43m(\u001b[49m\n\u001b[0;32m   1330\u001b[0m \u001b[43m        \u001b[49m\u001b[43mobj\u001b[49m\u001b[43m,\u001b[49m\n\u001b[0;32m   1331\u001b[0m \u001b[43m        \u001b[49m\u001b[43mkeys\u001b[49m\u001b[43m,\u001b[49m\n\u001b[0;32m   1332\u001b[0m \u001b[43m        \u001b[49m\u001b[43maxis\u001b[49m\u001b[38;5;241;43m=\u001b[39;49m\u001b[43maxis\u001b[49m\u001b[43m,\u001b[49m\n\u001b[0;32m   1333\u001b[0m \u001b[43m        \u001b[49m\u001b[43mlevel\u001b[49m\u001b[38;5;241;43m=\u001b[39;49m\u001b[43mlevel\u001b[49m\u001b[43m,\u001b[49m\n\u001b[0;32m   1334\u001b[0m \u001b[43m        \u001b[49m\u001b[43msort\u001b[49m\u001b[38;5;241;43m=\u001b[39;49m\u001b[43msort\u001b[49m\u001b[43m,\u001b[49m\n\u001b[0;32m   1335\u001b[0m \u001b[43m        \u001b[49m\u001b[43mobserved\u001b[49m\u001b[38;5;241;43m=\u001b[39;49m\u001b[38;5;28;43;01mFalse\u001b[39;49;00m\u001b[43m \u001b[49m\u001b[38;5;28;43;01mif\u001b[39;49;00m\u001b[43m \u001b[49m\u001b[43mobserved\u001b[49m\u001b[43m \u001b[49m\u001b[38;5;129;43;01mis\u001b[39;49;00m\u001b[43m \u001b[49m\u001b[43mlib\u001b[49m\u001b[38;5;241;43m.\u001b[39;49m\u001b[43mno_default\u001b[49m\u001b[43m \u001b[49m\u001b[38;5;28;43;01melse\u001b[39;49;00m\u001b[43m \u001b[49m\u001b[43mobserved\u001b[49m\u001b[43m,\u001b[49m\n\u001b[0;32m   1336\u001b[0m \u001b[43m        \u001b[49m\u001b[43mdropna\u001b[49m\u001b[38;5;241;43m=\u001b[39;49m\u001b[38;5;28;43mself\u001b[39;49m\u001b[38;5;241;43m.\u001b[39;49m\u001b[43mdropna\u001b[49m\u001b[43m,\u001b[49m\n\u001b[0;32m   1337\u001b[0m \u001b[43m    \u001b[49m\u001b[43m)\u001b[49m\n\u001b[0;32m   1339\u001b[0m \u001b[38;5;28;01mif\u001b[39;00m observed \u001b[38;5;129;01mis\u001b[39;00m lib\u001b[38;5;241m.\u001b[39mno_default:\n\u001b[0;32m   1340\u001b[0m     \u001b[38;5;28;01mif\u001b[39;00m \u001b[38;5;28many\u001b[39m(ping\u001b[38;5;241m.\u001b[39m_passed_categorical \u001b[38;5;28;01mfor\u001b[39;00m ping \u001b[38;5;129;01min\u001b[39;00m grouper\u001b[38;5;241m.\u001b[39mgroupings):\n",
      "File \u001b[1;32mc:\\Users\\ndung\\AppData\\Local\\Programs\\Python\\Python312\\Lib\\site-packages\\pandas\\core\\groupby\\grouper.py:1043\u001b[0m, in \u001b[0;36mget_grouper\u001b[1;34m(obj, key, axis, level, sort, observed, validate, dropna)\u001b[0m\n\u001b[0;32m   1041\u001b[0m         in_axis, level, gpr \u001b[38;5;241m=\u001b[39m \u001b[38;5;28;01mFalse\u001b[39;00m, gpr, \u001b[38;5;28;01mNone\u001b[39;00m\n\u001b[0;32m   1042\u001b[0m     \u001b[38;5;28;01melse\u001b[39;00m:\n\u001b[1;32m-> 1043\u001b[0m         \u001b[38;5;28;01mraise\u001b[39;00m \u001b[38;5;167;01mKeyError\u001b[39;00m(gpr)\n\u001b[0;32m   1044\u001b[0m \u001b[38;5;28;01melif\u001b[39;00m \u001b[38;5;28misinstance\u001b[39m(gpr, Grouper) \u001b[38;5;129;01mand\u001b[39;00m gpr\u001b[38;5;241m.\u001b[39mkey \u001b[38;5;129;01mis\u001b[39;00m \u001b[38;5;129;01mnot\u001b[39;00m \u001b[38;5;28;01mNone\u001b[39;00m:\n\u001b[0;32m   1045\u001b[0m     \u001b[38;5;66;03m# Add key to exclusions\u001b[39;00m\n\u001b[0;32m   1046\u001b[0m     exclusions\u001b[38;5;241m.\u001b[39madd(gpr\u001b[38;5;241m.\u001b[39mkey)\n",
      "\u001b[1;31mKeyError\u001b[0m: 'category_of_restaurant'"
     ]
    }
   ],
   "source": [
    "#Filtering the restaurants that are positioned 1st, 2nd, and 3rd, respectively on Uber Eats app\n",
    "r1=restaurants[restaurants['position']==1]\n",
    "r2=restaurants[restaurants['position']==2]\n",
    "r3=restaurants[restaurants['position']==3]\n",
    "\n",
    "#Defining a function to group dataset according to the categories and then plucking out the values & indexes.\n",
    "plt.style.use('ggplot')\n",
    "def func (R):\n",
    "  y1=R.groupby('category_of_restaurant')['name'].count().sort_values(ascending=False)\n",
    "  y2=y1.values\n",
    "  x2=y1.index\n",
    "  size=y2*5\n",
    "  return (x2,y2,size)\n",
    "vals1= func(r1)\n",
    "vals2= func(r2)\n",
    "vals3= func(r3)\n",
    "plt.scatter(x=vals1[0],y=vals1[1],s=vals1[2],label='Restaurants positioned 1',alpha=0.7)\n",
    "plt.scatter(x=vals2[0],y=vals2[1],s=vals2[2],label='Restaurants positioned 2',alpha=0.7)\n",
    "plt.scatter(x=vals3[0],y=vals3[1],s=vals3[2],label='Restaurants positioned 3',alpha=0.7)\n",
    "plt.tick_params(axis='x', rotation=90)\n",
    "plt.ylim(0, 160)\n",
    "plt.xlabel(\"Category\",fontsize=13)\n",
    "plt.ylabel(\"Number of restaurants\",fontsize=13)\n",
    "plt.title(\"Relation between the number of restaurants and their positions on Uber Eats\",fontsize=10)\n",
    "plt.legend()\n",
    "plt.show()"
   ]
  },
  {
   "cell_type": "markdown",
   "metadata": {},
   "source": []
  }
 ],
 "metadata": {
  "kernelspec": {
   "display_name": "Python 3",
   "language": "python",
   "name": "python3"
  },
  "language_info": {
   "codemirror_mode": {
    "name": "ipython",
    "version": 3
   },
   "file_extension": ".py",
   "mimetype": "text/x-python",
   "name": "python",
   "nbconvert_exporter": "python",
   "pygments_lexer": "ipython3",
   "version": "3.12.2"
  }
 },
 "nbformat": 4,
 "nbformat_minor": 2
}
